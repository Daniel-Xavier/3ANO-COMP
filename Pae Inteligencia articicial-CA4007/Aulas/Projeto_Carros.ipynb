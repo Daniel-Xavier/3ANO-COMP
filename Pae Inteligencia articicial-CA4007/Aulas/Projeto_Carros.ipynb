{
  "nbformat": 4,
  "nbformat_minor": 0,
  "metadata": {
    "colab": {
      "name": "Projeto-Carros.ipynb",
      "provenance": [],
      "collapsed_sections": [],
      "toc_visible": true
    },
    "kernelspec": {
      "name": "python3",
      "display_name": "Python 3"
    },
    "accelerator": "GPU"
  },
  "cells": [
    {
      "cell_type": "markdown",
      "metadata": {
        "id": "NJqMIggO4Ajb",
        "colab_type": "text"
      },
      "source": [
        "#Introdução à inteligência artificial"
      ]
    },
    {
      "cell_type": "markdown",
      "metadata": {
        "id": "aJkCTcuh4AYN",
        "colab_type": "text"
      },
      "source": [
        "##Projeto final - Classificação de modelos de carros\n",
        "\n",
        "Este arquivo deve ser entregue até dia __04/08/2020__. Para isso, adicione o seu RA no título do arquivo para identificação.\n",
        "A finalidade deste projeto é modificar o **classificador** de uma rede neural previamente treinada, onde fica a seu critério escolher qual arquitetura do modelo VGG você irá utilizar. \n",
        "Será avaliado quais foram as camadas utilizadas, funções de ativação, métodos para evitar *overfitting*, critério de perda, otimizador e quaisquer outros métodos que alterem os hiperparâmetros da rede.\n",
        "\n",
        "A precisão percentual será calculada pelo algoritmo no final deste arquivo.\n",
        "\n",
        "O dataset a ser usado está disponível através do link: https://ai.stanford.edu/~jkrause/cars/car_dataset.html"
      ]
    },
    {
      "cell_type": "markdown",
      "metadata": {
        "id": "PZwv7qpN6xDZ",
        "colab_type": "text"
      },
      "source": [
        "### Importação das bibliotecas necessárias"
      ]
    },
    {
      "cell_type": "code",
      "metadata": {
        "id": "S2lFnNW66wVr",
        "colab_type": "code",
        "colab": {}
      },
      "source": [
        "# Importação das bibliotecas\n",
        "from __future__ import print_function, division\n",
        "\n",
        "import torch\n",
        "import torch.nn as nn\n",
        "import torch.optim as optim\n",
        "from torch.optim import lr_scheduler\n",
        "import numpy as np\n",
        "import torchvision\n",
        "from torchvision import datasets, models, transforms\n",
        "import matplotlib.pyplot as plt\n",
        "import time\n",
        "import os\n",
        "import copy\n",
        "from torch.utils.data.sampler import SubsetRandomSampler\n",
        "from torch.utils.data import Dataset"
      ],
      "execution_count": null,
      "outputs": []
    },
    {
      "cell_type": "markdown",
      "metadata": {
        "id": "uEdW7xHaDeuW",
        "colab_type": "text"
      },
      "source": [
        "### Download das imagens do dataset"
      ]
    },
    {
      "cell_type": "code",
      "metadata": {
        "id": "ufDuzi7K2Fkv",
        "colab_type": "code",
        "colab": {}
      },
      "source": [
        "!wget http://imagenet.stanford.edu/internal/car196/car_ims.tgz"
      ],
      "execution_count": null,
      "outputs": []
    },
    {
      "cell_type": "markdown",
      "metadata": {
        "id": "9bBIal9oDmo5",
        "colab_type": "text"
      },
      "source": [
        "### Extração das imagens"
      ]
    },
    {
      "cell_type": "code",
      "metadata": {
        "id": "-M9MCAKN6eep",
        "colab_type": "code",
        "colab": {}
      },
      "source": [
        "!tar -xvf car_ims.tgz"
      ],
      "execution_count": null,
      "outputs": []
    },
    {
      "cell_type": "markdown",
      "metadata": {
        "id": "-46Yu4dUDwYn",
        "colab_type": "text"
      },
      "source": [
        "### Download das anotações do dataset\n",
        "\n",
        "Aqui serão baixados as informações do dataset:\n",
        "\n",
        "1. Nomes das classes\n",
        "2. Definição de qual foto pertence a qual classe\n",
        "3. Quais fotos serão usadas para treinamento, validação e teste."
      ]
    },
    {
      "cell_type": "code",
      "metadata": {
        "id": "MRBV2bSx5ogB",
        "colab_type": "code",
        "colab": {}
      },
      "source": [
        "!wget http://imagenet.stanford.edu/internal/car196/cars_annos.mat"
      ],
      "execution_count": null,
      "outputs": []
    },
    {
      "cell_type": "markdown",
      "metadata": {
        "id": "OF-ZaDf_ETKv",
        "colab_type": "text"
      },
      "source": [
        "### Análise das anotações"
      ]
    },
    {
      "cell_type": "code",
      "metadata": {
        "id": "w8ifkmRV6czI",
        "colab_type": "code",
        "colab": {}
      },
      "source": [
        "# Ler o arquivo com as anotações\n",
        "from scipy.io import loadmat\n",
        "cars_dataset_annotations = loadmat('cars_annos.mat')"
      ],
      "execution_count": null,
      "outputs": []
    },
    {
      "cell_type": "code",
      "metadata": {
        "id": "MdIOlLPgAGYa",
        "colab_type": "code",
        "colab": {}
      },
      "source": [
        "#Verificar o conteúdo das anotações\n",
        "cars_dataset_annotations"
      ],
      "execution_count": null,
      "outputs": []
    },
    {
      "cell_type": "markdown",
      "metadata": {
        "id": "UJhrnHm-_Hd4",
        "colab_type": "text"
      },
      "source": [
        "### Separando as imagens"
      ]
    },
    {
      "cell_type": "code",
      "metadata": {
        "id": "rscP16oE_US0",
        "colab_type": "code",
        "colab": {}
      },
      "source": [
        "# Verifica a posição do arquivo do projeto\n",
        "root = os.getcwd()\n",
        "# Cria as pastas para cada tipo de dado\n",
        "train_path = root + \"/train\"\n",
        "test_path = root + \"/test\"\n",
        "# Verifica se existe para evitar erro\n",
        "if not os.path.exists(train_path):\n",
        "  os.mkdir(train_path)\n",
        "if not os.path.exists(test_path):\n",
        "  os.mkdir(test_path)\n",
        "new_path = \"\"\n",
        "move_path=\"\"\n",
        "# Analisa quais os nomes das classes para criar pastas\n",
        "for class_name in cars_dataset_annotations['class_names'][0]:\n",
        "  for data_type in [\"train\",\"test\"]:\n",
        "    # Caso alguma classe tiver o caracter \"/\" trocar por outro para não haver erro de caminho\n",
        "    if \"/\" in class_name[0]:\n",
        "     class_name[0] = class_name[0].replace(\"/\",\"_\")\n",
        "    if data_type == \"train\":\n",
        "      new_path = train_path + \"/\" + class_name[0]\n",
        "    elif data_type == \"test\":\n",
        "      new_path = test_path + \"/\" + class_name[0]\n",
        "    if not os.path.exists(new_path):\n",
        "      os.mkdir(new_path)\n",
        "# Analisa qual o tipo da imagem e move ela para cada pasta\n",
        "for data in cars_dataset_annotations['annotations'][0]:\n",
        "  car_class = cars_dataset_annotations['class_names'][0][data[5][0][0]-1][0] \n",
        "  if \"/\" in car_class:\n",
        "    car_class = car_class.replace(\"/\",\"_\")\n",
        "  file_name = data[0][0].split(\"/\")[1]\n",
        "  if(data[6][0][0] == 0):\n",
        "    move_path = train_path + \"/\" + car_class  + \"/\" + file_name\n",
        "  if(data[6][0][0] == 1):\n",
        "    move_path = test_path + \"/\" + car_class  + \"/\" + file_name\n",
        "  os.rename(root+\"/\"+data[0][0],move_path)    "
      ],
      "execution_count": null,
      "outputs": []
    },
    {
      "cell_type": "markdown",
      "metadata": {
        "id": "pmpUI6Mg54OK",
        "colab_type": "text"
      },
      "source": [
        "### Definição das transformações, tamanho de lote e carregamento das imagens"
      ]
    },
    {
      "cell_type": "code",
      "metadata": {
        "id": "OHafMoyA_U3B",
        "colab_type": "code",
        "colab": {}
      },
      "source": [
        "# Número de subprocessos a serem usados para carregamento de dados\n",
        "num_workers = 0\n",
        "\n",
        "# Quantas amostras por lote \n",
        "batch_size = 8\n",
        "\n",
        "# Porcentagem de treinamento definida para uso como validação\n",
        "valid_size = 0.2\n",
        "\n",
        "# Define as transformações, fique a vontade para adicionar mais transformações!!!\n",
        "train_transform = transforms.Compose([\n",
        "        transforms.Resize(256),\n",
        "        transforms.CenterCrop(224),\n",
        "        transforms.RandomVerticalFlip(),\n",
        "        transforms.ToTensor(),\n",
        "        transforms.Normalize([0.485, 0.456, 0.406], [0.229, 0.224, 0.225])])\n",
        "test_transform = transforms.Compose([\n",
        "        transforms.Resize(256),\n",
        "        transforms.CenterCrop(224),\n",
        "        transforms.ToTensor(),\n",
        "        transforms.Normalize([0.485, 0.456, 0.406], [0.229, 0.224, 0.225])])\n",
        "\n",
        "train_dataset = datasets.ImageFolder(train_path,train_transform)\n",
        "test_dataset =  datasets.ImageFolder(test_path,test_transform)\n",
        "\n",
        "# Obter índices de treinamento que serão usados para validação\n",
        "num_train = len(train_dataset)\n",
        "indices = list(range(num_train))\n",
        "np.random.shuffle(indices)\n",
        "split = int(np.floor(valid_size * num_train))\n",
        "train_idx, valid_idx = indices[split:], indices[:split]\n",
        "\n",
        "# Definir amostradores para obter lotes de treinamento e validação\n",
        "train_sampler = SubsetRandomSampler(train_idx)\n",
        "valid_sampler = SubsetRandomSampler(valid_idx)\n",
        "\n",
        "# Preparar carregadores de dados (combinar conjunto de dados e amostrador)\n",
        "train_loader = torch.utils.data.DataLoader(train_dataset, batch_size=batch_size,\n",
        "    sampler=train_sampler, num_workers=num_workers)\n",
        "valid_loader = torch.utils.data.DataLoader(train_dataset, batch_size=batch_size, \n",
        "    sampler=valid_sampler, num_workers=num_workers)\n",
        "test_loader = torch.utils.data.DataLoader(test_dataset, batch_size=batch_size, \n",
        "    num_workers=num_workers)\n",
        "\n",
        "class_names = train_dataset.classes\n",
        "dataset_sizes = {'train':len(train_loader.dataset.samples)*(1-valid_size),'valid':len(valid_loader.dataset.samples)*valid_size,'test':len(test_loader.dataset.samples)}\n",
        "data_loader = {'train':train_loader,'valid':valid_loader,'test':test_loader}\n",
        "\n",
        "# Verifica qual hardware será utilizado\n",
        "device = torch.device(\"cuda:0\" if torch.cuda.is_available() else \"cpu\")"
      ],
      "execution_count": null,
      "outputs": []
    },
    {
      "cell_type": "code",
      "metadata": {
        "id": "7k9FISkn0uzz",
        "colab_type": "code",
        "colab": {}
      },
      "source": [
        "# Função auxiliar\n",
        "def imshow(inp, title=None):\n",
        "    inp = inp.numpy().transpose((1, 2, 0))\n",
        "    mean = np.array([0.485, 0.456, 0.406])\n",
        "    std = np.array([0.229, 0.224, 0.225])\n",
        "    inp = std * inp + mean\n",
        "    inp = np.clip(inp, 0, 1)\n",
        "    plt.figure(num=None, figsize=(25, 6), dpi=80, facecolor='w', edgecolor='k')\n",
        "    plt.imshow(inp)\n",
        "    if title is not None:\n",
        "      plt.title(title)\n",
        "    plt.pause(0.001)\n",
        "\n",
        "\n",
        "# Pega um lote de treinamento\n",
        "inputs, classes = next(iter(data_loader['train']))\n",
        "\n",
        "# Faz um \"grid\" com as imagens\n",
        "out = torchvision.utils.make_grid(inputs)\n",
        "\n",
        "# Mostra um lote de imagens\n",
        "imshow(out, title=[class_names[x] for x in classes])"
      ],
      "execution_count": null,
      "outputs": []
    },
    {
      "cell_type": "code",
      "metadata": {
        "id": "-5t7KU1I2V3e",
        "colab_type": "code",
        "colab": {}
      },
      "source": [
        "def train_model(model, criterion, optimizer, scheduler, num_epochs=25):\n",
        "    since = time.time()\n",
        "\n",
        "    best_model_wts = copy.deepcopy(model.state_dict())\n",
        "    best_acc = 0.0\n",
        "\n",
        "    for epoch in range(num_epochs):\n",
        "        print('Época {}/{}'.format(epoch, num_epochs - 1))\n",
        "        print('-' * 10)\n",
        "\n",
        "        # Cada época tem uma fase de treino e validação\n",
        "        for phase in ['train', 'valid']:\n",
        "            if phase == 'train':\n",
        "                model.train()  # Modelo em treinamento\n",
        "            else:\n",
        "                model.eval()   # Modelo em avaliação\n",
        "\n",
        "            running_loss = 0.0\n",
        "            running_corrects = 0\n",
        "\n",
        "            for inputs, labels in data_loader[phase]:\n",
        "                inputs = inputs.to(device)\n",
        "                labels = labels.to(device)\n",
        "\n",
        "                # Zera o gradiente do otimizador\n",
        "                optimizer.zero_grad()\n",
        "\n",
        "                # Analisa somente as perdas se for no treinamento\n",
        "                with torch.set_grad_enabled(phase == 'train'):\n",
        "                    outputs = model(inputs)\n",
        "                    _, preds = torch.max(outputs, 1)\n",
        "                    loss = criterion(outputs, labels)\n",
        "\n",
        "                    # 'loss.backward()' + 'optimizer.step()' somente no treinamento\n",
        "                    if phase == 'train':\n",
        "                        loss.backward()\n",
        "                        optimizer.step()\n",
        "\n",
        "                # Estatisticas\n",
        "                running_loss += loss.item() * inputs.size(0)\n",
        "                running_corrects += torch.sum(preds == labels.data)\n",
        "            if phase == 'train':\n",
        "                scheduler.step()\n",
        "\n",
        "            epoch_loss = running_loss / dataset_sizes[phase]\n",
        "            epoch_acc = running_corrects.double() / dataset_sizes[phase]\n",
        "\n",
        "            print('{} Perda: {:.4f} Precisão: {:.4f}'.format(\n",
        "                phase, epoch_loss, epoch_acc))\n",
        "\n",
        "            # Copia o modelo\n",
        "            if phase == 'valid' and epoch_acc > best_acc:\n",
        "                best_acc = epoch_acc\n",
        "                best_model_wts = copy.deepcopy(model.state_dict())\n",
        "\n",
        "        print()\n",
        "\n",
        "    time_elapsed = time.time() - since\n",
        "    print('Treinamento completo em {:.0f}m {:.0f}s'.format(\n",
        "        time_elapsed // 60, time_elapsed % 60))\n",
        "    print('Melhor precisão: {:4f}'.format(best_acc))\n",
        "    torch.save(best_model_wts,\"model.pt\")\n",
        "\n",
        "    # Carrega os pesos do melhor modelo\n",
        "    model.load_state_dict(best_model_wts)\n",
        "    return model"
      ],
      "execution_count": null,
      "outputs": []
    },
    {
      "cell_type": "markdown",
      "metadata": {
        "id": "ZCxMk49g3Sq-",
        "colab_type": "text"
      },
      "source": [
        "### Modelo\n",
        "\n",
        "Defina seu modelo utilizando o modelo [VGG](https://pytorch.org/docs/stable/torchvision/models.html) **pré-treinado**  e altere o classificador da rede neural."
      ]
    },
    {
      "cell_type": "code",
      "metadata": {
        "id": "hNtSwxU23TYL",
        "colab_type": "code",
        "colab": {}
      },
      "source": [
        "# TODO: Defina aqui qual VGG você utilizará, lembre-se que é aconselhavel usar a rede pré-treinada\n",
        "model = NotImplemented\n",
        "\n",
        "for param in model.parameters():\n",
        "    param.requires_grad = False\n",
        "   \n",
        "# Quantidade de entradas do classificador antigo\n",
        "num_ftrs = model.classifier[0].in_features\n",
        "\n",
        "# TODO: Defina o novo classificador com entrada de num_ftrs e saída de len(class_names)\n",
        "model.classifier = nn.Sequential(nn.Linear(num_ftrs,x),\n",
        "                                 .\n",
        "                                 .\n",
        "                                 .\n",
        "\n",
        "                                 nn.Linear(y,len(class_names)))\n",
        "\n",
        "# Move o modelo para o dispositivo disponivel\n",
        "model = model.to(device)\n",
        "\n",
        "# TODO: Defina o critério\n",
        "criterion = NotImplemented\n",
        "\n",
        "# TODO: Defina o otimizador\n",
        "optimizer = NotImplemented\n",
        "\n",
        "# TODO: Defina o \"scheduler\"\n",
        "exp_lr_scheduler = NotImplemented"
      ],
      "execution_count": null,
      "outputs": []
    },
    {
      "cell_type": "markdown",
      "metadata": {
        "id": "fjioITOf7EDn",
        "colab_type": "text"
      },
      "source": [
        "### Treinamento"
      ]
    },
    {
      "cell_type": "code",
      "metadata": {
        "id": "s_0a033W3nm5",
        "colab_type": "code",
        "colab": {}
      },
      "source": [
        "model = train_model(model, criterion, optimizer, exp_lr_scheduler,\n",
        "                       num_epochs=1)"
      ],
      "execution_count": null,
      "outputs": []
    },
    {
      "cell_type": "markdown",
      "metadata": {
        "id": "93ImtXAb7HHi",
        "colab_type": "text"
      },
      "source": [
        "### Carregar o modelo"
      ]
    },
    {
      "cell_type": "code",
      "metadata": {
        "id": "5CJ4sqn43qBM",
        "colab_type": "code",
        "colab": {}
      },
      "source": [
        "# Carrega o modelo \n",
        "file_name = \"model.pt\"\n",
        "model.load_state_dict(torch.load(file_name))"
      ],
      "execution_count": null,
      "outputs": []
    },
    {
      "cell_type": "markdown",
      "metadata": {
        "id": "qXjEZSvJ7K68",
        "colab_type": "text"
      },
      "source": [
        "### Avaliação do projeto"
      ]
    },
    {
      "cell_type": "code",
      "metadata": {
        "id": "Mvcb9vws3xeY",
        "colab_type": "code",
        "colab": {}
      },
      "source": [
        "# Faça o teste final para avaliação da rede\n",
        "test_loss = 0.0\n",
        "class_correct = list(0. for i in range(len(class_names)))\n",
        "class_total = list(0. for i in range(len(class_names)))\n",
        "\n",
        "train_on_gpu = torch.cuda.is_available()\n",
        "model.eval()\n",
        "\n",
        "for batch_idx, (data, target) in enumerate(data_loader['test']):\n",
        "    # Move os tensores para a GPU se disponivel\n",
        "    if train_on_gpu:\n",
        "        data, target = data.cuda(), target.cuda()\n",
        "    # Inferência \n",
        "    output = model(data)\n",
        "    # Calcula a perda\n",
        "    loss = criterion(output, target)\n",
        "    # Atualiza a perda\n",
        "    test_loss += loss.item()*data.size(0)\n",
        "    # Convert as probabilidades para classe e escolhe somente a maior\n",
        "    _, pred = torch.max(output, 1)    \n",
        "    # Compara as predições com a classe verdadeira\n",
        "    correct_tensor = pred.eq(target.data.view_as(pred))\n",
        "    correct = np.squeeze(correct_tensor.numpy()) if not train_on_gpu else np.squeeze(correct_tensor.cpu().numpy())\n",
        "    # Calcula a precisão para cada objeto\n",
        "    for i in range(batch_size):\n",
        "        if(correct.size==batch_size):\n",
        "          label = target.data[i]\n",
        "          class_correct[label] += correct[i].item()\n",
        "          class_total[label] += 1\n",
        "\n",
        "# Perda média\n",
        "test_loss = test_loss/len(test_loader.dataset)\n",
        "print('Perda de teste: {:.6f}\\n'.format(test_loss))\n",
        "\n",
        "for i in range(len(class_names)):\n",
        "    if class_total[i] > 0:\n",
        "      print('Precisão de teste de %5s: %2d%% (%2d/%2d)' % (\n",
        "            class_names[i], 100 * class_correct[i] / class_total[i],\n",
        "            np.sum(class_correct[i]), np.sum(class_total[i])))\n",
        "    else:\n",
        "        print('Precisão de teste de %5s: N/A (sem dados de treinamento)' % (class_names[i]))\n",
        "overall_acc = 100. * np.sum(class_correct) / np.sum(class_total)\n",
        "print('\\nPrecisão de teste geral: %6.2f%% (%3d/%3d)' % (\n",
        "    overall_acc,\n",
        "    np.sum(class_correct), np.sum(class_total)))"
      ],
      "execution_count": null,
      "outputs": []
    }
  ]
}