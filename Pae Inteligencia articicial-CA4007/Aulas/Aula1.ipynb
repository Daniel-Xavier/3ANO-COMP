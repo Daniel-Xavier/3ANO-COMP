{
  "nbformat": 4,
  "nbformat_minor": 0,
  "metadata": {
    "colab": {
      "name": "Aula1.ipynb",
      "provenance": [],
      "collapsed_sections": [],
      "toc_visible": true
    },
    "kernelspec": {
      "name": "python3",
      "display_name": "Python 3"
    }
  },
  "cells": [
    {
      "cell_type": "markdown",
      "metadata": {
        "id": "CQ8lU54w9r8n",
        "colab_type": "text"
      },
      "source": [
        "#Introdução à inteligência artificial\n",
        "\n",
        "\n",
        "\n"
      ]
    },
    {
      "cell_type": "markdown",
      "metadata": {
        "id": "i2am7rp3K9aX",
        "colab_type": "text"
      },
      "source": [
        "\n",
        "##Aula 1 - Python \n",
        "\n",
        "\n",
        "Vamos utilizar a linguagem de programação Python no nosso curso, por inúmeras vantagens:\n",
        "\n",
        "\n",
        "1.   Fácil aprendizagem;\n",
        "2.   Código legível;\n",
        "3.   Linguagem de tipagem dinâmica e forte;\n",
        "4.   Imensa comunidade com diversas bibliotecas;\n",
        "\n"
      ]
    },
    {
      "cell_type": "markdown",
      "metadata": {
        "id": "MXhIG3EgMjym",
        "colab_type": "text"
      },
      "source": [
        "### Comentários\n",
        "\n",
        "Durante os nossos códigos haverão comentários que ajudarão a entender a funcionalidade de determinada linha e/ou função.\n",
        "\n",
        "\n",
        "\n",
        "> Os comentários de linha única em Python iniciam com *hashtag* (**#**), enquanto várias linhas começam e terminam com três apóstrofos (''').\n",
        "\n",
        "Exemplo:\n",
        "\n",
        "```python\n",
        "#Comentário de linha única\n",
        "\n",
        "'''\n",
        "Comentário\n",
        "de\n",
        "várias \n",
        "linhas\n",
        "'''\n",
        "```"
      ]
    },
    {
      "cell_type": "markdown",
      "metadata": {
        "id": "HoySsDUMMpUJ",
        "colab_type": "text"
      },
      "source": [
        "###Variáveis"
      ]
    },
    {
      "cell_type": "code",
      "metadata": {
        "id": "-_WWZhEx-gC4",
        "colab_type": "code",
        "colab": {}
      },
      "source": [
        "#Exemplo de varáveis:\n",
        "exemplo_int = 1\n",
        "exemplo_float = 24.56\n",
        "exemplo_string = \"Olá mundo!\"\n",
        "exemplo_list = [1, 2, 3]\n",
        "exemplo_dict = {\"Maçã\":75, \"Banana\":25, \"Laranja\":102 }"
      ],
      "execution_count": null,
      "outputs": []
    },
    {
      "cell_type": "markdown",
      "metadata": {
        "id": "5HgZeeCLKMpd",
        "colab_type": "text"
      },
      "source": [
        "###Visualização das variáveis\n",
        "\n",
        "\n",
        "Podemos verificar o valor da variável utilizando a seguinte função:\n",
        "\n",
        "\n",
        "\n",
        "```python\n",
        "print(exemplo_int)\n",
        "```\n",
        "\n",
        "Ou simplesmente podemos executar a célula com o nome da variável: \n",
        "\n"
      ]
    },
    {
      "cell_type": "code",
      "metadata": {
        "id": "rkNFlzVsOwQ9",
        "colab_type": "code",
        "colab": {}
      },
      "source": [
        "print(exemplo_int)"
      ],
      "execution_count": null,
      "outputs": []
    },
    {
      "cell_type": "code",
      "metadata": {
        "id": "8G_A2Qai8rtS",
        "colab_type": "code",
        "colab": {}
      },
      "source": [
        "exemplo_dict[\"Maçã\"]"
      ],
      "execution_count": null,
      "outputs": []
    },
    {
      "cell_type": "markdown",
      "metadata": {
        "id": "BbeCe-poVd6d",
        "colab_type": "text"
      },
      "source": [
        "### Estrutura de condição\n",
        "\n",
        "A estrutura de condição *if* analisa uma ou mais expressões e executa uma ação dependendo do resultado. Segue exemplo:"
      ]
    },
    {
      "cell_type": "code",
      "metadata": {
        "id": "dWH4oJoIWxEr",
        "colab_type": "code",
        "colab": {}
      },
      "source": [
        "#Analisa se example_int é igual a 1 e se for verdade irá executar a função print()\n",
        "if(exemplo_int==1):\n",
        "  print(\"É verdade! 👍\")"
      ],
      "execution_count": null,
      "outputs": []
    },
    {
      "cell_type": "code",
      "metadata": {
        "id": "bYSJcO4XW8JM",
        "colab_type": "code",
        "colab": {}
      },
      "source": [
        "#Analisa se example_float é igual a 2\n",
        "if(exemplo_float==2.54):\n",
        "  print(\"É verdade! 👍\")\n",
        "#Senão for igual a 2, ele executa a seguinte ação\n",
        "else:\n",
        "  print(\"É mentira! 👎\")"
      ],
      "execution_count": null,
      "outputs": []
    },
    {
      "cell_type": "markdown",
      "metadata": {
        "id": "Qq0ACdrNpCTn",
        "colab_type": "text"
      },
      "source": [
        "### Estrutura de repetição\n"
      ]
    },
    {
      "cell_type": "markdown",
      "metadata": {
        "id": "RmP4GPVsrYXv",
        "colab_type": "text"
      },
      "source": [
        "####While\n",
        "\n",
        "Enquanto a expressão for ***verdadeira***, o *while* executará o código:"
      ]
    },
    {
      "cell_type": "code",
      "metadata": {
        "id": "fVx5PNrWo9rP",
        "colab_type": "code",
        "colab": {}
      },
      "source": [
        "while(exemplo_int<10):\n",
        "  exemplo_int = exemplo_int + 1\n",
        "  print(exemplo_int)"
      ],
      "execution_count": null,
      "outputs": []
    },
    {
      "cell_type": "markdown",
      "metadata": {
        "id": "MiUnDjAernUx",
        "colab_type": "text"
      },
      "source": [
        "####For\n",
        "\n",
        "O *for* em Python irá iterar sob os membros de uma sequência em ordem. Segue exemplo:"
      ]
    },
    {
      "cell_type": "code",
      "metadata": {
        "id": "_B4e-xlbrJF3",
        "colab_type": "code",
        "colab": {}
      },
      "source": [
        "lista_de_frutas = [\"Maçã\",\"Banana\",\"Laranja\"]\n",
        "\n",
        "for fruta in lista_de_frutas:\n",
        "  print(fruta)"
      ],
      "execution_count": null,
      "outputs": []
    },
    {
      "cell_type": "code",
      "metadata": {
        "id": "w_Fcfrkxsruv",
        "colab_type": "code",
        "colab": {}
      },
      "source": [
        "for iterador in range(3):\n",
        "  print(lista_de_frutas[iterador])"
      ],
      "execution_count": null,
      "outputs": []
    },
    {
      "cell_type": "markdown",
      "metadata": {
        "id": "5tqMWWBGN9BU",
        "colab_type": "text"
      },
      "source": [
        "### Funções\n",
        "\n",
        "São utilizadas quando precisamos realizar um código inumeras vezes e/ou organizar a estrutura do código.\n",
        "\n",
        "Exemplo:"
      ]
    },
    {
      "cell_type": "code",
      "metadata": {
        "id": "ev8Gs8FAG5pn",
        "colab_type": "code",
        "colab": {}
      },
      "source": [
        "def minha_funcao(primeiro_num,segundo_num):\n",
        "  soma_de_num = primeiro_num + segundo_num\n",
        "  return soma_de_num\n",
        "\n",
        "minha_funcao(1,2)"
      ],
      "execution_count": null,
      "outputs": []
    },
    {
      "cell_type": "markdown",
      "metadata": {
        "id": "AnGyoMiXs7o7",
        "colab_type": "text"
      },
      "source": [
        "###Classes\n",
        "\n",
        "Uma classe serve para descrever um objeto através de atributos e métodos. Como por exemplo uma classe chamada *Cachorro* que descreve todos os cachorros existentes.\n",
        "\n",
        "Os atributos são basicamente variaveis que descrevem algo da classe, como por exemplo a classe *Cachorro* tem altura, peso, cor dos pelos e etc.\n",
        "\n",
        "Os métodos são basicamente funções que a classe tem e no caso da classe *Cachorro* são ações que um cachorro pode fazer, como andar, latir, comer e etc.\n",
        "\n",
        "\n",
        "\n"
      ]
    },
    {
      "cell_type": "code",
      "metadata": {
        "id": "2f-kT4ruVLe6",
        "colab_type": "code",
        "colab": {}
      },
      "source": [
        "class Cachorro():\n",
        "    altura = 0.5\n",
        "    peso = 15\n",
        "    cor_dos_pelos = \"Marrom\"\n",
        "\n",
        "    def latir(self):\n",
        "        print(\"Au au\")\n",
        "\n",
        "    def andar(self):\n",
        "      if(self.altura > 0.3):\n",
        "        print(\"Cachorro andando\")\n",
        "\n",
        "    def comer(self,comida): \n",
        "        print(\"Cachorro está comendo \"+comida)"
      ],
      "execution_count": null,
      "outputs": []
    },
    {
      "cell_type": "code",
      "metadata": {
        "id": "AYUbNG15xjHh",
        "colab_type": "code",
        "colab": {}
      },
      "source": [
        "#Criamos um objeto chamado bidu que é da classe Cachorro\n",
        "bidu = Cachorro()"
      ],
      "execution_count": null,
      "outputs": []
    },
    {
      "cell_type": "code",
      "metadata": {
        "id": "hr9Ab8twxozz",
        "colab_type": "code",
        "colab": {}
      },
      "source": [
        "#Utilizamos o método comer da classe\n",
        "bidu.comer(\"abacaxi\")"
      ],
      "execution_count": null,
      "outputs": []
    },
    {
      "cell_type": "code",
      "metadata": {
        "id": "-7XdWaowxqc0",
        "colab_type": "code",
        "colab": {}
      },
      "source": [
        "#Utilizamos o atributo da classe\n",
        "bidu.altura"
      ],
      "execution_count": null,
      "outputs": []
    },
    {
      "cell_type": "markdown",
      "metadata": {
        "id": "7xAZouaBzk8-",
        "colab_type": "text"
      },
      "source": [
        "### Exercício\n",
        "\n",
        "Construir uma classe chamada *Carro*:\n",
        "\n",
        "\n",
        "Atributos:\n",
        "\n",
        "* quantidade_de_portas (inteiro), air_bag(booleano) e tipo_combustivel (gasolina ou alcool)\n",
        "\n",
        "\n",
        "Métodos:\n",
        "\n",
        "* acelerar() que retona \"Fui!\"\n",
        "* frear() que retorna \"Parei!\"\n",
        "\n",
        "Os métodos acelerar e frear devem retornar uma string. Porém o método acelerar() só deve retornar \"Fui!\" *se* o atribuito tipo_combustivel for \"gasolina\" *senão* deve retornar \"O motor precisa esquentar\".\n",
        "\n",
        "A instância do objeto deve se chamar gol.\n"
      ]
    },
    {
      "cell_type": "code",
      "metadata": {
        "id": "hVg6tMY6cn_a",
        "colab_type": "code",
        "colab": {}
      },
      "source": [
        "#TODO: Crie aqui sua classe"
      ],
      "execution_count": null,
      "outputs": []
    },
    {
      "cell_type": "code",
      "metadata": {
        "id": "QKQQyYFJcsIz",
        "colab_type": "code",
        "colab": {}
      },
      "source": [
        "#TODO: Crie aqui a instância do seu objeto"
      ],
      "execution_count": null,
      "outputs": []
    },
    {
      "cell_type": "code",
      "metadata": {
        "id": "h9wWhhwjcvOL",
        "colab_type": "code",
        "colab": {}
      },
      "source": [
        "try:\n",
        "  gol.tipo_combustivel = \"gasolina\"\n",
        "  if (gol.acelerar() == \"Fui!\"):\n",
        "    gol.tipo_combustivel = \"alcool\"\n",
        "    if(gol.acelerar() == \"O motor precisa esquentar\"):\n",
        "      print(\"Acertou ✅\")\n",
        "  else:\n",
        "    print(\"Errou ❌\")\n",
        "except:\n",
        "  print(\"Erro de criação de objeto ❗\")"
      ],
      "execution_count": null,
      "outputs": []
    }
  ]
}