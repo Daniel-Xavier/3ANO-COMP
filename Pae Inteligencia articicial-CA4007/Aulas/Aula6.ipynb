{
  "nbformat": 4,
  "nbformat_minor": 0,
  "metadata": {
    "colab": {
      "name": "Aula6.ipynb",
      "provenance": [],
      "collapsed_sections": [],
      "toc_visible": true
    },
    "kernelspec": {
      "name": "python3",
      "display_name": "Python 3"
    },
    "accelerator": "GPU"
  },
  "cells": [
    {
      "cell_type": "markdown",
      "metadata": {
        "id": "quecPV4kLnN2",
        "colab_type": "text"
      },
      "source": [
        "#Introdução à inteligência artificial"
      ]
    },
    {
      "cell_type": "markdown",
      "metadata": {
        "id": "TheSPP7eLo0g",
        "colab_type": "text"
      },
      "source": [
        "## Aula 6 - Redes neurais convolucionais"
      ]
    },
    {
      "cell_type": "markdown",
      "metadata": {
        "id": "BQYe2LITOqv-",
        "colab_type": "text"
      },
      "source": [
        "Nesta aula, visualizaremos quatro saídas filtradas (também conhecidas como mapas de ativação) de uma camada convolucional.\n",
        "\n",
        "Neste exemplo, *nós* estamos definindo quatro filtros que são aplicados a uma imagem de entrada, inicializando os **pesos** de uma camada convolucional, mas uma CNN treinada aprenderá os valores desses pesos."
      ]
    },
    {
      "cell_type": "code",
      "metadata": {
        "id": "G5HNGLPiQJlD",
        "colab_type": "code",
        "colab": {}
      },
      "source": [
        "# Download da foto\n",
        "!wget https://imagens-revista.vivadecora.com.br/uploads/2018/05/tipos-de-flores-g%C3%A9rbera.jpg -O image.jpg"
      ],
      "execution_count": 0,
      "outputs": []
    },
    {
      "cell_type": "code",
      "metadata": {
        "id": "cMjtM2EeM_Bx",
        "colab_type": "code",
        "colab": {}
      },
      "source": [
        "import cv2\n",
        "import matplotlib.pyplot as plt\n",
        "import numpy as np\n",
        "import torch \n",
        "from torch import nn\n",
        "%matplotlib inline\n",
        "\n",
        "# Fique a vontade para usar qualquer outra image,\n",
        "img_path = '/content/image.jpg'\n",
        "\n",
        "# Carrega a imagem colorida\n",
        "bgr_img = cv2.imread(img_path)\n",
        "rgb_img = cv2.cvtColor(bgr_img,cv2.COLOR_BGR2RGB)\n",
        "# Converte para escala de cinza\n",
        "gray_img = cv2.cvtColor(bgr_img, cv2.COLOR_BGR2GRAY)\n",
        "\n",
        "# Separa os canais\n",
        "red = rgb_img[:, :, 0]\n",
        "green = rgb_img[:, :, 1]\n",
        "blue = rgb_img[:, :, 2]\n",
        "\n",
        "fig, axs = plt.subplots(2,2)\n",
        "fig.set_size_inches(18.5, 10.5)\n",
        "\n",
        "cax_00 = axs[0,0].imshow(rgb_img)\n",
        "\n",
        "cax_01 = axs[0,1].imshow(red, cmap='Reds')\n",
        "fig.colorbar(cax_01, ax=axs[0,1])\n",
        "\n",
        "cax_10 = axs[1,0].imshow(green, cmap='Greens')\n",
        "fig.colorbar(cax_10, ax=axs[1,0])\n",
        "\n",
        "cax_11 = axs[1,1].imshow(blue, cmap='Blues')\n",
        "fig.colorbar(cax_11, ax=axs[1,1])\n",
        "plt.show()\n"
      ],
      "execution_count": 0,
      "outputs": []
    },
    {
      "cell_type": "markdown",
      "metadata": {
        "id": "4Dr_hK15nl4L",
        "colab_type": "text"
      },
      "source": [
        "Para aplicar os filtros a seguir nós iremos realizar uma operação chamada convolução, onde o filtro é chamado de \"kernel\" que é uma matriz. \n",
        "\n",
        "Exemplo de convolução: \n",
        "<div align=center>\n",
        "<img src=\"https://upload.wikimedia.org/wikipedia/commons/1/19/2D_Convolution_Animation.gif\">\n",
        "</div>"
      ]
    },
    {
      "cell_type": "markdown",
      "metadata": {
        "id": "A6_jJBuJQomf",
        "colab_type": "text"
      },
      "source": [
        "### Defina e visualize os filtros"
      ]
    },
    {
      "cell_type": "code",
      "metadata": {
        "id": "VpRtaOiiPKlf",
        "colab_type": "code",
        "colab": {}
      },
      "source": [
        "## Sinta-se a vontade para modificar os filtros\n",
        "filter_vals = np.array([[-1, -1, 1, 1], [-1, -1, 1, 1], [-1, -1, 1, 1], [-1, -1, 1, 1]])\n",
        "\n",
        "print('Formato do filtro: ', filter_vals.shape)"
      ],
      "execution_count": 0,
      "outputs": []
    },
    {
      "cell_type": "code",
      "metadata": {
        "id": "1CittJ40RAAb",
        "colab_type": "code",
        "colab": {}
      },
      "source": [
        "# Definindo quatro filtros, sendo todos combinações lineares de 'filter_vals'\n",
        "\n",
        "# Definindo quatro filtros\n",
        "filter_1 = filter_vals\n",
        "filter_2 = -filter_1\n",
        "filter_3 = filter_1.T\n",
        "filter_4 = -filter_3\n",
        "filters = np.array([filter_1, filter_2, filter_3, filter_4])\n",
        "\n",
        "# Por exemplo, mostrando o primeiro filtro\n",
        "print('Filtro 1: \\n', filter_1)"
      ],
      "execution_count": 0,
      "outputs": []
    },
    {
      "cell_type": "code",
      "metadata": {
        "id": "TaW1F_OXRFJj",
        "colab_type": "code",
        "colab": {}
      },
      "source": [
        "# Visualizando os quatro filtros\n",
        "fig = plt.figure(figsize=(10, 5))\n",
        "for i in range(4):\n",
        "    ax = fig.add_subplot(1, 4, i+1, xticks=[], yticks=[])\n",
        "    ax.imshow(filters[i], cmap='gray')\n",
        "    ax.set_title('Filtro %s' % str(i+1))\n",
        "    width, height = filters[i].shape\n",
        "    for x in range(width):\n",
        "        for y in range(height):\n",
        "            ax.annotate(str(filters[i][x][y]), xy=(y,x),\n",
        "                        horizontalalignment='center',\n",
        "                        verticalalignment='center',\n",
        "                        color='white' if filters[i][x][y]<0 else 'black')"
      ],
      "execution_count": 0,
      "outputs": []
    },
    {
      "cell_type": "markdown",
      "metadata": {
        "id": "X9sbqswFSuED",
        "colab_type": "text"
      },
      "source": [
        "### Definir uma camada convolucional\n",
        "\n",
        "As várias camadas que compõem qualquer rede neural estão documentadas, [aqui](http://pytorch.org/docs/stable/nn.html). Para uma rede neural convolucional, começaremos definindo a:\n",
        "* Camada convolucional\n",
        "\n",
        "Inicialize uma única camada convolucional para que ela contenha todos os filtros criados. Observe que você não está treinando esta rede; você está inicializando os pesos em uma camada convolucional para poder visualizar o que acontece depois de uma passagem direta por essa rede!"
      ]
    },
    {
      "cell_type": "code",
      "metadata": {
        "id": "BKXWMxmfRe7r",
        "colab_type": "code",
        "colab": {}
      },
      "source": [
        "# Transforma os filtros para tensor\n",
        "weight = torch.from_numpy(filters).unsqueeze(1).type(torch.FloatTensor)\n",
        "# Pega as dimensões do filtro\n",
        "k_height, k_width = weight.shape[2:]\n",
        "# Cria a camada convolucional\n",
        "conv = nn.Conv2d(1, 4, kernel_size=(k_height, k_width), bias=False)\n",
        "# Inicializa os ganhos do kernel com os filtros\n",
        "conv.weight = nn.Parameter(weight)\n",
        "# Cria o modelo\n",
        "model = nn.Sequential(conv)\n",
        "# Mostra o modelo\n",
        "print(model)"
      ],
      "execution_count": 0,
      "outputs": []
    },
    {
      "cell_type": "code",
      "metadata": {
        "id": "zz-rFojASB4c",
        "colab_type": "code",
        "colab": {}
      },
      "source": [
        "model"
      ],
      "execution_count": 0,
      "outputs": []
    },
    {
      "cell_type": "markdown",
      "metadata": {
        "id": "nVvx6B1TTLPn",
        "colab_type": "text"
      },
      "source": [
        "### Visualize a saída de cada filtro"
      ]
    },
    {
      "cell_type": "markdown",
      "metadata": {
        "id": "KdeXqHUfTLIJ",
        "colab_type": "text"
      },
      "source": [
        "Primeiro, definiremos uma função auxiliar, `viz_layer`, que capta uma camada específica e um número de filtros (argumento opcional), e exibe a saída dessa camada depois que uma imagem é passada."
      ]
    },
    {
      "cell_type": "code",
      "metadata": {
        "id": "mMjSbJyJSLZ_",
        "colab_type": "code",
        "colab": {}
      },
      "source": [
        "# Função auxiliar para visualizar a saida de cada camada\n",
        "# Quantidade de filtros por padrão é 4 para essa função\n",
        "def viz_layer(layer, n_filters= 4):\n",
        "    fig = plt.figure(figsize=(20, 20))\n",
        "    \n",
        "    for i in range(n_filters):\n",
        "        ax = fig.add_subplot(1, n_filters, i+1, xticks=[], yticks=[])\n",
        "        ax.imshow(np.squeeze(layer[0,i].data.numpy()), cmap='gray')\n",
        "        ax.set_title('Saida %s' % str(i+1))"
      ],
      "execution_count": 0,
      "outputs": []
    },
    {
      "cell_type": "code",
      "metadata": {
        "id": "3D1bBaVSTiza",
        "colab_type": "code",
        "colab": {}
      },
      "source": [
        "# Plota a imagem original\n",
        "plt.imshow(gray_img, cmap='gray')\n",
        "\n",
        "# Visualiza os filtros\n",
        "fig = plt.figure(figsize=(12, 6))\n",
        "fig.subplots_adjust(left=0, right=1.5, bottom=0.8, top=1, hspace=0.05, wspace=0.05)\n",
        "for i in range(4):\n",
        "    ax = fig.add_subplot(1, 4, i+1, xticks=[], yticks=[])\n",
        "    ax.imshow(filters[i], cmap='gray')\n",
        "    ax.set_title('Filtro %s' % str(i+1))\n",
        "\n",
        "    \n",
        "# Converte a imagem em um tensor\n",
        "gray_img_tensor = torch.from_numpy(gray_img).unsqueeze(0).unsqueeze(1).type(torch.FloatTensor)\n",
        "\n",
        "# get the convolutional layer (pre and post activation)\n",
        "conv_layer  = model(gray_img_tensor)\n",
        "\n",
        "# visualize the output of a conv layer\n",
        "viz_layer(conv_layer)"
      ],
      "execution_count": 0,
      "outputs": []
    },
    {
      "cell_type": "markdown",
      "metadata": {
        "id": "HTpoQnazvW8O",
        "colab_type": "text"
      },
      "source": [
        "#### Ativação ReLu\n",
        "\n",
        "Neste modelo, usamos uma função de ativação que escala a saída da camada convolucional. Escolhemos uma função ReLu para fazer isso, e essa função simplesmente transforma todos os valores negativos de pixel em zeros (preto). "
      ]
    },
    {
      "cell_type": "code",
      "metadata": {
        "id": "maCMbuy6cOMG",
        "colab_type": "code",
        "colab": {}
      },
      "source": [
        "# Modelo com ativação ReLu\n",
        "\n",
        "# Transforma os filtros para tensor\n",
        "weight = torch.from_numpy(filters).unsqueeze(1).type(torch.FloatTensor)\n",
        "# Pega as dimensões do filtro\n",
        "k_height, k_width = weight.shape[2:]\n",
        "# Cria a camada convolucional\n",
        "conv = nn.Conv2d(1, 4, kernel_size=(k_height, k_width), bias=False)\n",
        "# Inicializa os ganhos do kernel com os filtros\n",
        "conv.weight = nn.Parameter(weight)\n",
        "# Cria o modelo\n",
        "model = nn.Sequential(conv,\n",
        "                      nn.ReLU())\n",
        "# Mostra o modelo\n",
        "print(model)"
      ],
      "execution_count": 0,
      "outputs": []
    },
    {
      "cell_type": "code",
      "metadata": {
        "id": "DXF_Fi3Mv4NZ",
        "colab_type": "code",
        "colab": {}
      },
      "source": [
        "# Passando imagem pelo modelo\n",
        "activated_layer = model(gray_img_tensor)\n",
        "# Visualizar a imagem com ativação ReLu\n",
        "viz_layer(activated_layer)"
      ],
      "execution_count": 0,
      "outputs": []
    },
    {
      "cell_type": "markdown",
      "metadata": {
        "id": "UL-fujcDxHve",
        "colab_type": "text"
      },
      "source": [
        "### Camada \"Maxpooling\""
      ]
    },
    {
      "cell_type": "markdown",
      "metadata": {
        "id": "JQEg2ltzwrvR",
        "colab_type": "text"
      },
      "source": [
        "Agora adicionaremos uma camada \"Maxpooling\" na sequência de uma camada convolucional.\n",
        "Uma camada convolucional + função de ativação, seguida por uma camada de pool e uma camada linear (para criar o tamanho de saída desejado) compõem as camadas básicas de uma CNN."
      ]
    },
    {
      "cell_type": "markdown",
      "metadata": {
        "id": "Gt1S5yziyTay",
        "colab_type": "text"
      },
      "source": [
        "Você já viu como definir uma camada convolucional, a seguir é uma:\n",
        "* Camada \"pooling\"\n",
        "\n",
        "Na próxima célula, inicializamos uma camada convolucional para que ela contenha todos os filtros criados. Em seguida, adicione uma camada de maxpool, [documentada aqui](http://pytorch.org/docs/stable/_modules/torch/nn/modules/pool.html), com um tamanho de kernel de (2x2), para que você possa ver o a resolução da imagem foi reduzida após esta etapa!\n",
        "\n",
        "Uma camada de maxpool reduz o tamanho x-y de uma entrada e mantém apenas os valores mais *ativos* de pixel. Abaixo está um exemplo de um kernel de pool 2x2, com um passo de 2, aplicado a um pequeno patch de valores de pixel em escala de cinza; reduzindo o tamanho x-y do patch em um fator de 2. Somente os valores máximos de pixel em 2x2 permanecem na nova saída."
      ]
    },
    {
      "cell_type": "code",
      "metadata": {
        "id": "HtdN3a3jwIcq",
        "colab_type": "code",
        "colab": {}
      },
      "source": [
        "# Transforma os filtros para tensor\n",
        "weight = torch.from_numpy(filters).unsqueeze(1).type(torch.FloatTensor)\n",
        "# Pega as dimensões do filtro\n",
        "k_height, k_width = weight.shape[2:]\n",
        "# Cria a camada convolucional\n",
        "conv = nn.Conv2d(1, 4, kernel_size=(k_height, k_width), bias=False)\n",
        "# Inicializa os ganhos do kernel com os filtros\n",
        "conv.weight = nn.Parameter(weight)\n",
        "# Cria o modelo com \"Maxpooling\"\n",
        "model = nn.Sequential(conv,\n",
        "                      nn.MaxPool2d(2, 2))\n",
        "# Mostra o modelo\n",
        "print(model)"
      ],
      "execution_count": 0,
      "outputs": []
    },
    {
      "cell_type": "code",
      "metadata": {
        "id": "a1m81Wi6zPxq",
        "colab_type": "code",
        "colab": {}
      },
      "source": [
        "# Passando imagem pelo modelo\n",
        "maxpool_layer = model(gray_img_tensor)\n",
        "# Visualizar a imagem com maxpooling\n",
        "viz_layer(maxpool_layer)"
      ],
      "execution_count": 0,
      "outputs": []
    },
    {
      "cell_type": "markdown",
      "metadata": {
        "id": "CdDluxNtzvP7",
        "colab_type": "text"
      },
      "source": [
        "#### Ativação ReLu\n",
        "\n",
        "Neste modelo, usamos uma função de ativação que escala a saída da camada maxpooling. Escolhemos uma função ReLu para fazer isso, e essa função simplesmente transforma todos os valores negativos de pixel em zeros (preto). "
      ]
    },
    {
      "cell_type": "code",
      "metadata": {
        "id": "gnXypE5FzgaV",
        "colab_type": "code",
        "colab": {}
      },
      "source": [
        "# Modelo com maxpooling e ReLu\n",
        "\n",
        "# Transforma os filtros para tensor\n",
        "weight = torch.from_numpy(filters).unsqueeze(1).type(torch.FloatTensor)\n",
        "# Pega as dimensões do filtro\n",
        "k_height, k_width = weight.shape[2:]\n",
        "# Cria a camada convolucional\n",
        "conv = nn.Conv2d(1, 4, kernel_size=(k_height, k_width), bias=False)\n",
        "# Inicializa os ganhos do kernel com os filtros\n",
        "conv.weight = nn.Parameter(weight)\n",
        "# Cria o modelo com \"Maxpooling\"\n",
        "model = nn.Sequential(conv,\n",
        "                      nn.MaxPool2d(2, 2),\n",
        "                      nn.ReLU())\n",
        "# Mostra o modelo\n",
        "print(model)"
      ],
      "execution_count": 0,
      "outputs": []
    },
    {
      "cell_type": "code",
      "metadata": {
        "id": "ntEl2KHv0Hf0",
        "colab_type": "code",
        "colab": {}
      },
      "source": [
        "# Passando imagem pelo modelo\n",
        "activated_maxpool_layer = model(gray_img_tensor)\n",
        "# Visualizar a imagem com maxpooling e ativação ReLu\n",
        "viz_layer(activated_maxpool_layer)"
      ],
      "execution_count": 0,
      "outputs": []
    },
    {
      "cell_type": "markdown",
      "metadata": {
        "id": "HmsaS-XQ0q_U",
        "colab_type": "text"
      },
      "source": [
        "### Montando uma CNN para classificação\n",
        "\n",
        "Vamos montar uma **CNN** para classificar imagens do banco de dados CIFAR-10.\n",
        "\n",
        "As imagens neste banco de dados são pequenas imagens coloridas que se enquadram em uma das dez classes; alguns exemplos de imagens são mostrados abaixo.\n",
        "\n",
        "<div align=center>\n",
        "<img src=\"https://i2.wp.com/appliedmachinelearning.blog/wp-content/uploads/2018/03/cifar2.jpg?fit=427%2C325&ssl=1\">\n",
        "</div>"
      ]
    },
    {
      "cell_type": "markdown",
      "metadata": {
        "id": "YwgZISOY1mZC",
        "colab_type": "text"
      },
      "source": [
        "### [CUDA](http://pytorch.org/docs/stable/cuda.html) \n",
        "\n",
        "Como são imagens maiores (32x32x3), pode ser útil acelerar o tempo de treinamento usando uma GPU. O CUDA é uma plataforma de computação paralela e os Tensores CUDA são os mesmos que os Tensores típicos, apenas eles utilizam GPUs para computação."
      ]
    },
    {
      "cell_type": "code",
      "metadata": {
        "id": "kIpr80os0Xkj",
        "colab_type": "code",
        "colab": {}
      },
      "source": [
        "# Checa se tem GPU disponível\n",
        "train_on_gpu = torch.cuda.is_available()\n",
        "\n",
        "if not train_on_gpu:\n",
        "    print('CUDA não está disponível. Treinando na CPU ...')\n",
        "else:\n",
        "    print('CUDA está disponível! Treinando na GPU ...')"
      ],
      "execution_count": 0,
      "outputs": []
    },
    {
      "cell_type": "code",
      "metadata": {
        "id": "u8PXXPux1_ec",
        "colab_type": "code",
        "colab": {}
      },
      "source": [
        "from torchvision import datasets\n",
        "import torchvision.transforms as transforms\n",
        "from torch.utils.data.sampler import SubsetRandomSampler\n",
        "\n",
        "# Número de subprocessos a serem usados para carregamento de dados\n",
        "num_workers = 0\n",
        "\n",
        "# Quantas amostras por lote \n",
        "batch_size = 20\n",
        "\n",
        "# Porcentagem de treinamento definida para uso como validação\n",
        "valid_size = 0.2\n",
        "\n",
        "# Define as transformações\n",
        "transform = transforms.Compose([\n",
        "    transforms.ToTensor(),\n",
        "    transforms.Normalize((0.5, 0.5, 0.5), (0.5, 0.5, 0.5))\n",
        "    ])\n",
        "\n",
        "# Baixa as informações\n",
        "train_data = datasets.CIFAR10('data', train=True,\n",
        "                              download=True, transform=transform)\n",
        "test_data = datasets.CIFAR10('data', train=False,\n",
        "                             download=True, transform=transform)\n",
        "\n",
        "# Obter índices de treinamento que serão usados para validação\n",
        "num_train = len(train_data)\n",
        "indices = list(range(num_train))\n",
        "np.random.shuffle(indices)\n",
        "split = int(np.floor(valid_size * num_train))\n",
        "train_idx, valid_idx = indices[split:], indices[:split]\n",
        "\n",
        "# Definir amostradores para obter lotes de treinamento e validação\n",
        "train_sampler = SubsetRandomSampler(train_idx)\n",
        "valid_sampler = SubsetRandomSampler(valid_idx)\n",
        "\n",
        "# Preparar carregadores de dados (combinar conjunto de dados e amostrador)\n",
        "train_loader = torch.utils.data.DataLoader(train_data, batch_size=batch_size,\n",
        "    sampler=train_sampler, num_workers=num_workers)\n",
        "valid_loader = torch.utils.data.DataLoader(train_data, batch_size=batch_size, \n",
        "    sampler=valid_sampler, num_workers=num_workers)\n",
        "test_loader = torch.utils.data.DataLoader(test_data, batch_size=batch_size, \n",
        "    num_workers=num_workers)\n",
        "\n",
        "# Especifica as classes das imagens\n",
        "classes = ['avião', 'automóvel', 'pássaro', 'gato', 'cervo',\n",
        "           'cachorro', 'sapo', 'cavalo', 'navio', 'caminhão']"
      ],
      "execution_count": 0,
      "outputs": []
    },
    {
      "cell_type": "markdown",
      "metadata": {
        "id": "4cjX-c358XAf",
        "colab_type": "text"
      },
      "source": [
        "### Visualize um lote de dados de treinamento\n"
      ]
    },
    {
      "cell_type": "code",
      "metadata": {
        "id": "1_-ooE468RYL",
        "colab_type": "code",
        "colab": {}
      },
      "source": [
        "# Função auxiliar\n",
        "def imshow(img):\n",
        "    img = img / 2 + 0.5  \n",
        "    plt.imshow(np.transpose(img, (1, 2, 0)))"
      ],
      "execution_count": 0,
      "outputs": []
    },
    {
      "cell_type": "code",
      "metadata": {
        "id": "yQAYqvy78dcO",
        "colab_type": "code",
        "colab": {}
      },
      "source": [
        "# Obtém um lote de imagens\n",
        "dataiter = iter(train_loader)\n",
        "images, labels = dataiter.next()\n",
        "images = images.numpy() \n",
        "\n",
        "fig = plt.figure(figsize=(25, 4))\n",
        "# Mostra 20 imagens\n",
        "for idx in np.arange(20):\n",
        "    ax = fig.add_subplot(2, 20/2, idx+1, xticks=[], yticks=[])\n",
        "    imshow(images[idx])\n",
        "    ax.set_title(classes[labels[idx]])"
      ],
      "execution_count": 0,
      "outputs": []
    },
    {
      "cell_type": "markdown",
      "metadata": {
        "id": "KimqXlQq8zvO",
        "colab_type": "text"
      },
      "source": [
        "### Ver uma imagem em mais detalhes\n",
        "\n",
        "Aqui, examinamos os canais de cores normalizados de vermelho, verde e azul (RGB) como três imagens separadas de intensidade em escala de cinza."
      ]
    },
    {
      "cell_type": "code",
      "metadata": {
        "id": "AX24DkR48f_h",
        "colab_type": "code",
        "colab": {}
      },
      "source": [
        "rgb_img = np.squeeze(images[3])\n",
        "channels = ['Canal vermelho', 'Canal verde', 'Canal azul']\n",
        "\n",
        "fig = plt.figure(figsize = (36, 36)) \n",
        "for idx in np.arange(rgb_img.shape[0]):\n",
        "    ax = fig.add_subplot(1, 3, idx + 1)\n",
        "    img = rgb_img[idx]\n",
        "    ax.imshow(img, cmap='gray')\n",
        "    ax.set_title(channels[idx])\n",
        "    width, height = img.shape\n",
        "    thresh = img.max()/2.5\n",
        "    for x in range(width):\n",
        "        for y in range(height):\n",
        "            val = round(img[x][y],2) if img[x][y] !=0 else 0\n",
        "            ax.annotate(str(val), xy=(y,x),\n",
        "                    horizontalalignment='center',\n",
        "                    verticalalignment='center', size=8,\n",
        "                    color='white' if img[x][y]<thresh else 'black')"
      ],
      "execution_count": 0,
      "outputs": []
    },
    {
      "cell_type": "markdown",
      "metadata": {
        "id": "RjhpSXoBAsMV",
        "colab_type": "text"
      },
      "source": [
        "### Definir a [arquitetura da rede](http://pytorch.org/docs/stable/nn.html) \n",
        "\n",
        "Desta vez, você definirá uma arquitetura da CNN. Em vez de camadas lineares totalmente conectadas, você usará o seguinte:\n",
        "* [Camadas convolucionais](https://pytorch.org/docs/stable/nn.html#conv2d), que pode ser pensado como uma pilha de imagens filtradas.\n",
        "* [Camadas de Maxpool](https://pytorch.org/docs/stable/nn.html#maxpool2d), que reduzem o tamanho x de uma entrada, mantendo apenas os pixels mais _ativos_ da camada anterior.\n",
        "* As camadas Linear + Dropout usuais para evitar ajustes excessivos e produzir uma saída de 10 \"classes\".\n",
        "\n",
        "Uma rede com 2 camadas convolucionais é mostrada na imagem abaixo e no código, e você recebeu um código de início com uma camada convolucional e uma camada máxima.\n",
        "\n",
        "<div align=center>\n",
        "<img src = 'https://missinglink.ai/wp-content/uploads/2019/06/CNN-Architecture-Types-of-Layers-700x376.png' height = 20% largura = 20% />\n",
        "</div>\n",
        "\n",
        "#### TODO: Defina um modelo com várias camadas convolucionais e defina o comportamento da meta de feedforward.\n",
        "\n",
        "Quanto mais camadas convolucionais você incluir, mais padrões complexos de cores e formas um modelo poderá detectar. Sugere-se que seu modelo final inclua 2 ou 3 camadas convolucionais, bem como camadas lineares + \"dropout\" entre elas, para evitar \"overfitting\".\n",
        "\n",
        "É uma boa prática considerar as pesquisas e implementações existentes de modelos relacionados como ponto de partida para definir seus próprios modelos. Pode ser útil consultar [este exemplo de classificação do PyTorch](https://github.com/pytorch/tutorials/blob/master/beginner_source/blitz/cifar10_tutorial.py) ou [este, exemplo mais complexo do Keras](https://github.com/keras-team/keras/blob/master/examples/cifar10_cnn.py) para ajudar a decidir sobre uma estrutura final.\n",
        "\n",
        "#### Volume de saída para uma camada convolucional\n",
        "\n",
        "Para calcular o tamanho da saída de uma determinada camada convolucional, podemos realizar o seguinte cálculo (retirado de [curso cs231n de Stanford](http://cs231n.github.io/convolutional-networks/#layers)):\n",
        "> Podemos calcular o tamanho espacial do volume de saída em função do tamanho do volume de entrada (W), do tamanho do kernel / filtro (F), do passo com o qual eles são aplicados (S) e da quantidade de preenchimento zero usada (P) na fronteira. A fórmula correta para calcular quantos neurônios definem a saída_W é dada por `(W-F + 2P)/S + 1`.\n",
        "\n",
        "Por exemplo, para uma entrada 7x7 e um filtro 3x3 com passada 1 e pad 0, obteríamos uma saída 5x5. Com o passo 2 obteríamos uma saída 3x3."
      ]
    },
    {
      "cell_type": "code",
      "metadata": {
        "id": "otzHggwY9Bp-",
        "colab_type": "code",
        "colab": {}
      },
      "source": [
        "#TODO: Crie o seguinte modelo\n",
        "model = nn.Sequential(\n",
        "        # Camada convolucional que entra um tensor 32x32x3, kernel = 3, \"stride\"= 1 e \"padding\" = 1\n",
        "        None,\n",
        "        # Camada \"maxpooling\" com kernel = 2 e \"stride\"= 2\n",
        "        None,\n",
        "        # Função de ativação\n",
        "        None,\n",
        "        # Camada convolucional que entra um tensor 16x16x16, kernel = 3, \"stride\"= 1 e \"padding\" = 1\n",
        "        None,\n",
        "        # Camada \"maxpooling\" com kernel = 2 e \"stride\"= 2\n",
        "        None,\n",
        "        # Função de ativação\n",
        "        None,\n",
        "        # Camada convolucional que entra um tensor 8x8x32, kernel = 3, \"stride\"= 1 e \"padding\" = 1\n",
        "        None,\n",
        "        # Camada \"maxpooling\" com kernel = 2 e \"stride\"= 2\n",
        "        None,\n",
        "        # Função de ativação\n",
        "        None,\n",
        "        # Achata a imagem\n",
        "        nn.Flatten(),\n",
        "        # Camada linear que entra 4x4x64 e sai valor x\n",
        "        None,\n",
        "        # Função de ativação\n",
        "        None,\n",
        "        # Camada \"dropout\" (p=0.25)\n",
        "        None,\n",
        "        # Camada linear que entra x e sai 10 classes\n",
        "        None,\n",
        "        # Função de ativação\n",
        "        None,\n",
        "        # Camada \"dropout\" (p=0.25)\n",
        "        None)\n",
        "\n",
        "if train_on_gpu:\n",
        "    model.cuda()\n",
        "        "
      ],
      "execution_count": 0,
      "outputs": []
    },
    {
      "cell_type": "code",
      "metadata": {
        "id": "_x_7JckpEZca",
        "colab_type": "code",
        "colab": {}
      },
      "source": [
        "import torch.optim as optim\n",
        "\n",
        "# Especificando o critério\n",
        "criterion = nn.CrossEntropyLoss()\n",
        "\n",
        "# Especificando o otimizador\n",
        "optimizer = optim.SGD(model.parameters(), lr=0.01)"
      ],
      "execution_count": 0,
      "outputs": []
    },
    {
      "cell_type": "markdown",
      "metadata": {
        "id": "DtYMQi9MEwaQ",
        "colab_type": "text"
      },
      "source": [
        "### Treine a rede\n",
        "\n",
        "Lembre-se de observar como a perda de treinamento e validação diminui com o tempo; se a perda de validação aumentar, isso indica um possível \"overfitting\"."
      ]
    },
    {
      "cell_type": "code",
      "metadata": {
        "id": "PPR4yF8IEtpT",
        "colab_type": "code",
        "colab": {}
      },
      "source": [
        "# Número de épocas\n",
        "n_epochs = 2\n",
        "\n",
        "valid_loss_min = np.Inf # Rastreia o valor minimo de validação\n",
        "\n",
        "for epoch in range(1, n_epochs+1):\n",
        "\n",
        "    # Rastreia as perdas\n",
        "    train_loss = 0.0\n",
        "    valid_loss = 0.0\n",
        "    \n",
        "    # Treinamento\n",
        "    model.train()\n",
        "    for batch_idx, (data, target) in enumerate(train_loader):\n",
        "        # Move tensores para CUDA se disponível\n",
        "        if train_on_gpu:\n",
        "            data, target = data.cuda(), target.cuda()\n",
        "        # Limpa o gradiente do otimizador\n",
        "        optimizer.zero_grad()\n",
        "        # Faz a inferência do lote\n",
        "        output = model(data)\n",
        "        # Calcula a perda do lote\n",
        "        loss = criterion(output, target)\n",
        "        # Faz um \"passe para trás\" para obter os erros\n",
        "        loss.backward()\n",
        "        # Da um passo no otimizador\n",
        "        optimizer.step()\n",
        "\n",
        "        train_loss += loss.item()*data.size(0)\n",
        "        \n",
        "    # Validação\n",
        "    model.eval()\n",
        "    for batch_idx, (data, target) in enumerate(valid_loader):\n",
        "        # Move tensores para CUDA se disponível\n",
        "        if train_on_gpu:\n",
        "            data, target = data.cuda(), target.cuda()\n",
        "        # Faz a inferência do lote\n",
        "        output = model(data)\n",
        "        # Calcula a perda do lote\n",
        "        loss = criterion(output, target)\n",
        "        # Atualiza o erro\n",
        "        valid_loss += loss.item()*data.size(0)\n",
        "    \n",
        "    # Calcula as perdas\n",
        "    train_loss = train_loss/len(train_loader.dataset)\n",
        "    valid_loss = valid_loss/len(valid_loader.dataset)\n",
        "        \n",
        "    print('Época: {} \\tPerda de treino: {:.6f} \\tPerda de validação: {:.6f}'.format(\n",
        "        epoch, train_loss, valid_loss))\n",
        "    \n",
        "    # Salva modelo se a perda de validação diminuiu\n",
        "    if valid_loss <= valid_loss_min:\n",
        "        print('Perda de validação caiu! ({:.6f} --> {:.6f}).  Salvando modelo ...'.format(\n",
        "        valid_loss_min,\n",
        "        valid_loss))\n",
        "        torch.save(model.state_dict(), 'model.pt')\n",
        "        valid_loss_min = valid_loss"
      ],
      "execution_count": 0,
      "outputs": []
    },
    {
      "cell_type": "markdown",
      "metadata": {
        "id": "Jz4a1UXSFkOK",
        "colab_type": "text"
      },
      "source": [
        "### Carregar o modelo"
      ]
    },
    {
      "cell_type": "code",
      "metadata": {
        "id": "31yL8k75E8Xk",
        "colab_type": "code",
        "colab": {}
      },
      "source": [
        "model.load_state_dict(torch.load('model.pt'))"
      ],
      "execution_count": 0,
      "outputs": []
    },
    {
      "cell_type": "markdown",
      "metadata": {
        "id": "atBSwf-EFsPH",
        "colab_type": "text"
      },
      "source": [
        "### Teste a rede treinada\n",
        "\n",
        "Teste seu modelo treinado em dados nunca vistos antes! Um resultado \"bom\" será uma CNN com cerca de 70% (ou mais, tente o seu melhor!) De precisão nessas imagens de teste."
      ]
    },
    {
      "cell_type": "code",
      "metadata": {
        "id": "Qsp161RSFv8G",
        "colab_type": "code",
        "colab": {}
      },
      "source": [
        "\n",
        "test_loss = 0.0\n",
        "class_correct = list(0. for i in range(10))\n",
        "class_total = list(0. for i in range(10))\n",
        "\n",
        "model.eval()\n",
        "\n",
        "for batch_idx, (data, target) in enumerate(test_loader):\n",
        "\n",
        "    if train_on_gpu:\n",
        "        data, target = data.cuda(), target.cuda()\n",
        "\n",
        "    output = model(data)\n",
        "    loss = criterion(output, target)\n",
        "    test_loss += loss.item()*data.size(0)\n",
        "    _, pred = torch.max(output, 1)    \n",
        "    correct_tensor = pred.eq(target.data.view_as(pred))\n",
        "    correct = np.squeeze(correct_tensor.numpy()) if not train_on_gpu else np.squeeze(correct_tensor.cpu().numpy())\n",
        "    for i in range(batch_size):\n",
        "        label = target.data[i]\n",
        "        class_correct[label] += correct[i].item()\n",
        "        class_total[label] += 1\n",
        "\n",
        "test_loss = test_loss/len(test_loader.dataset)\n",
        "print('Perda de teste: {:.6f}\\n'.format(test_loss))\n",
        "\n",
        "for i in range(10):\n",
        "    if class_total[i] > 0:\n",
        "        print('Precisão de teste de %5s: %2d%% (%2d/%2d)' % (\n",
        "            classes[i], 100 * class_correct[i] / class_total[i],\n",
        "            np.sum(class_correct[i]), np.sum(class_total[i])))\n",
        "    else:\n",
        "        print('Precisão de teste de %5s: N/A (Sem exemplo de teste)' % (classes[i]))\n",
        "\n",
        "print('\\nPrecisão de teste geral: %2d%% (%2d/%2d)' % (\n",
        "    100. * np.sum(class_correct) / np.sum(class_total),\n",
        "    np.sum(class_correct), np.sum(class_total)))"
      ],
      "execution_count": 0,
      "outputs": []
    },
    {
      "cell_type": "code",
      "metadata": {
        "id": "BdmNQrkr7q0X",
        "colab_type": "code",
        "colab": {}
      },
      "source": [
        ""
      ],
      "execution_count": 0,
      "outputs": []
    }
  ]
}