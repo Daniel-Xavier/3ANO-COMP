{
  "nbformat": 4,
  "nbformat_minor": 0,
  "metadata": {
    "colab": {
      "name": "Exercicios1.ipynb",
      "provenance": [],
      "collapsed_sections": [],
      "toc_visible": true
    },
    "kernelspec": {
      "name": "python3",
      "display_name": "Python 3"
    }
  },
  "cells": [
    {
      "cell_type": "markdown",
      "metadata": {
        "id": "FAv9GKzIK602",
        "colab_type": "text"
      },
      "source": [
        "#Introdução à inteligência artificial"
      ]
    },
    {
      "cell_type": "markdown",
      "metadata": {
        "id": "RgJlCXAYLVYA",
        "colab_type": "text"
      },
      "source": [
        "## Exercício 1"
      ]
    },
    {
      "cell_type": "markdown",
      "metadata": {
        "id": "ChDyqPNGLoea",
        "colab_type": "text"
      },
      "source": [
        "### Classificação de Fashion-MNIST\n",
        "\n",
        "Agora é sua vez de construir e treinar uma rede neural. Você usará o [conjunto de dados Fashion-MNIST](https://github.com/zalandoresearch/fashion-mnist), um substituto para o conjunto de dados MNIST. Na verdade, o MNIST é bastante trivial com redes neurais, onde você pode obter facilmente uma precisão superior a 97%. Fashion-MNIST é um conjunto de imagens de roupas em escala de cinza de 28x28. É mais complexo que o MNIST, portanto, é uma melhor representação do desempenho real da sua rede e uma melhor representação dos conjuntos de dados que você usará no mundo real.\n",
        "\n",
        "<div align=center>\n",
        "<img src = 'https://raw.githubusercontent.com/zalandoresearch/fashion-mnist/master/doc/img/fashion-mnist-sprite.png' width = 500px>\n",
        "</div>\n",
        "Neste notebook, você criará sua própria rede neural. Na maioria das vezes, você pode copiar e colar o código das aulas anteriores, mas não aprenderia. É importante que você escreva o código você mesmo e faça com que ele funcione. Sinta-se à vontade para consultar os blocos de anotações anteriores enquanto trabalha com esse exercício.\n",
        "\n",
        "Primeiro, vamos carregar o conjunto de dados através do 'torchvision'."
      ]
    },
    {
      "cell_type": "code",
      "metadata": {
        "id": "MD7jkzPKLoD3",
        "colab_type": "code",
        "colab": {}
      },
      "source": [
        "import torch\n",
        "from torchvision import datasets, transforms\n",
        "import matplotlib.pyplot as plt\n",
        "import numpy as np\n",
        "\n",
        "# Defina uma transformação para normalizar os dados\n",
        "transform = transforms.Compose([\n",
        "transforms.ToTensor(), transforms.Normalize([0.5], [0.5])])\n",
        "\n",
        "# Faça o download e carregue os dados de treinamento\n",
        "trainset = datasets.FashionMNIST('~/.pytorch/F_MNIST_data/', download=True, train=True, transform=transform)\n",
        "trainloader = torch.utils.data.DataLoader(trainset, batch_size=64, shuffle=True)\n",
        "\n",
        "# Faça o download e carregue os dados de teste\n",
        "testset = datasets.FashionMNIST('~/.pytorch/F_MNIST_data/', download=True, train=False, transform=transform)\n",
        "testloader = torch.utils.data.DataLoader(testset, batch_size=64, shuffle=True)"
      ],
      "execution_count": 0,
      "outputs": []
    },
    {
      "cell_type": "markdown",
      "metadata": {
        "id": "twFYE5DFM1D7",
        "colab_type": "text"
      },
      "source": [
        "Aqui podemos ver uma das imagens."
      ]
    },
    {
      "cell_type": "code",
      "metadata": {
        "id": "dBDgxoGSK42Q",
        "colab_type": "code",
        "colab": {}
      },
      "source": [
        "def imshow(image, ax=None, title=None, normalize=True):\n",
        "    \"\"\"Imshow para Tensor.\"\"\"\n",
        "    if ax is None:\n",
        "        fig, ax = plt.subplots()\n",
        "    image = image.numpy().transpose((1, 2, 0))\n",
        "\n",
        "    if normalize:\n",
        "        mean = np.array([0.485, 0.456, 0.406])\n",
        "        std = np.array([0.229, 0.224, 0.225])\n",
        "        image = std * image + mean\n",
        "        image = np.clip(image, 0, 1)\n",
        "\n",
        "    ax.imshow(image)\n",
        "    ax.spines['top'].set_visible(False)\n",
        "    ax.spines['right'].set_visible(False)\n",
        "    ax.spines['left'].set_visible(False)\n",
        "    ax.spines['bottom'].set_visible(False)\n",
        "    ax.tick_params(axis='both', length=0)\n",
        "    ax.set_xticklabels('')\n",
        "    ax.set_yticklabels('')\n",
        "\n",
        "    return ax\n",
        "\n",
        "image, label = next(iter(trainloader))\n",
        "imshow(image[0,:]);"
      ],
      "execution_count": 0,
      "outputs": []
    },
    {
      "cell_type": "markdown",
      "metadata": {
        "id": "o5kklddRN8FD",
        "colab_type": "text"
      },
      "source": [
        "### Construindo a rede\n",
        "\n",
        "Aqui você deve definir sua rede. Assim como no MNIST, cada imagem tem 28x28, totalizando 784 pixels e 10 classes. Você deve incluir pelo menos uma camada oculta. Sugerimos que você use as ativações ReLU para as camadas e retorne os logits ou log-softmax da passagem direta. Cabe a você quantas camadas você adiciona e o tamanho dessas camadas.\n",
        "\n",
        "Documentação: [nn.Linear](https://pytorch.org/docs/stable/nn.html#linear), [nn.ReLU](https://pytorch.org/docs/stable/nn.html#relu), [nn.Sigmoid](https://pytorch.org/docs/stable/nn.html#sigmoid), [nn.Tanh](https://pytorch.org/docs/stable/nn.html#tanh), [nn.SoftMax](https://pytorch.org/docs/stable/nn.html#softmax), [nn.NLLLoss](https://pytorch.org/docs/stable/nn.html#nllloss), [nn.CrossEntropyLoss](https://pytorch.org/docs/stable/nn.html#crossentropyloss)"
      ]
    },
    {
      "cell_type": "code",
      "metadata": {
        "id": "CqhlPDL2OFPk",
        "colab_type": "code",
        "colab": {}
      },
      "source": [
        "from torch import nn\n",
        "\n",
        "# TODO: Defina a arquitetura da sua rede usando nn.Sequential\n",
        "model = None"
      ],
      "execution_count": 0,
      "outputs": []
    },
    {
      "cell_type": "markdown",
      "metadata": {
        "id": "tF-OuS5Bxf6-",
        "colab_type": "text"
      },
      "source": [
        "### Treine a rede\n",
        "\n",
        "Agora você deve criar sua rede e treiná-la. Primeiro, você deve definir [o critério](http://pytorch.org/docs/master/nn.html#loss-functions) (algo como `nn.CrossEntropyLoss`) e [o otimizador](http://pytorch.org/docs/master/optim.html) (normalmente `optim.SGD` ou `optim.Adam`).\n",
        "\n",
        "Em seguida, escreva o código de treinamento. Lembre-se de que o passe de treinamento é um processo bastante direto:\n",
        "\n",
        "* Faça um \"passe pra frente\" através da rede para obter os logits\n",
        "* Use os logits para calcular a perda\n",
        "* Execute um retrocesso na rede com `loss.backward()` para calcular os gradientes\n",
        "* Dê um passo com o otimizador para atualizar os pesos\n",
        "\n",
        "Ajustando os hiperparâmetros (unidades ocultas, taxa de aprendizado, etc.), você poderá obter a perda de treinamento abaixo de 0,4."
      ]
    },
    {
      "cell_type": "code",
      "metadata": {
        "id": "RgWixAo7xfrX",
        "colab_type": "code",
        "colab": {}
      },
      "source": [
        "# TODO: Crie a rede, defina o critério e o otimizador\n",
        "from torch import optim\n",
        "\n",
        "criterion = None\n",
        "optimizer = None"
      ],
      "execution_count": 0,
      "outputs": []
    },
    {
      "cell_type": "code",
      "metadata": {
        "id": "iIlpbIXxzSsR",
        "colab_type": "code",
        "colab": {}
      },
      "source": [
        "# TODO: Treine sua rede aqui\n",
        "epochs = 5\n",
        "for e in range(epochs):\n",
        "    running_loss = 0\n",
        "    for images, labels in trainloader:\n",
        "        # \"Achate\" as imagens para um vetor de 784 posições\n",
        "        images = images.view(images.shape[0], -1)\n",
        "    \n",
        "        # TODO: Treinamento\n",
        "\n",
        "        # Limpe o gradiente do otimizador\n",
        "        # Faça um passe pra frente usando o modelo e as imagens, obtendo as probabilidades log\n",
        "        # Use o critério com as probabilidades e os 'labels, obtendo a perda \"loss\"\n",
        "        # Realize um \"passe pra trás\" na perda\n",
        "        # Dê um passo no otimizador\n",
        "        \n",
        "        running_loss += loss.item()\n",
        "    else:\n",
        "        print(f\"Training loss: {running_loss/len(trainloader)}\")"
      ],
      "execution_count": 0,
      "outputs": []
    },
    {
      "cell_type": "code",
      "metadata": {
        "id": "OqYtnu2yNNoN",
        "colab_type": "code",
        "colab": {}
      },
      "source": [
        "%matplotlib inline\n",
        "%config InlineBackend.figure_format = 'retina'\n",
        "\n",
        "# Função auxiliar para plotar a imagem\n",
        "def view_classify(img, ps, version=\"MNIST\"):\n",
        "    ps = ps.data.numpy().squeeze()\n",
        "\n",
        "    fig, (ax1, ax2) = plt.subplots(figsize=(6,9), ncols=2)\n",
        "    ax1.imshow(img.resize_(1, 28, 28).numpy().squeeze())\n",
        "    ax1.axis('off')\n",
        "    ax2.barh(np.arange(10), ps)\n",
        "    ax2.set_aspect(0.1)\n",
        "    ax2.set_yticks(np.arange(10))\n",
        "    if version == \"MNIST\":\n",
        "        ax2.set_yticklabels(np.arange(10))\n",
        "    elif version == \"Fashion\":\n",
        "        ax2.set_yticklabels(['Camiseta',\n",
        "                             'Calças',\n",
        "                             'Pullover',\n",
        "                             'Vestido',\n",
        "                             'Casaco',\n",
        "                             'Sandália',\n",
        "                             'Camisa',\n",
        "                             'Tênis',\n",
        "                             'Bolsa',\n",
        "                             'Bota no tornozelo'], size='small');\n",
        "    ax2.set_title('Probabilidade de classe')\n",
        "    ax2.set_xlim(0, 1.1)\n",
        "\n",
        "# Teste sua rede\n",
        "dataiter = iter(testloader)\n",
        "images, labels = dataiter.next()\n",
        "img = images[0]\n",
        "\n",
        "# Converta a imagem 2D para um vetor 1D com 1 linha \n",
        "img = img.view(1,784)\n",
        "\n",
        "# TODO: Calculate the class probabilities (softmax) for img\n",
        "with torch.no_grad():\n",
        "    logps = model(img)\n",
        "ps =  torch.exp(logps)\n",
        "\n",
        "# Plota o resultado\n",
        "view_classify(img.resize_(1, 28, 28), ps, version='Fashion')"
      ],
      "execution_count": 0,
      "outputs": []
    },
    {
      "cell_type": "code",
      "metadata": {
        "id": "m6dpp_puRe0X",
        "colab_type": "code",
        "colab": {}
      },
      "source": [
        ""
      ],
      "execution_count": 0,
      "outputs": []
    }
  ]
}