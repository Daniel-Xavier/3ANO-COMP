{
  "nbformat": 4,
  "nbformat_minor": 0,
  "metadata": {
    "colab": {
      "name": "Aula2.ipynb",
      "provenance": [],
      "collapsed_sections": [],
      "toc_visible": true
    },
    "kernelspec": {
      "name": "python3",
      "display_name": "Python 3"
    }
  },
  "cells": [
    {
      "cell_type": "markdown",
      "metadata": {
        "id": "P24Iiw4NajfV",
        "colab_type": "text"
      },
      "source": [
        "#Introdução à inteligência artificial\n"
      ]
    },
    {
      "cell_type": "markdown",
      "metadata": {
        "id": "4z7wxNfLalWj",
        "colab_type": "text"
      },
      "source": [
        "##Aula 2 - Perceptrons e redes neurais artificiais\n",
        "\n",
        "Em um sistema biológico, os neurônios são responsáveis pelo processamento de informação. A excitação de um neurônio depende de um estímulo prévio vindo de uma rede neural e suas respectivas ligações sinápticas. \n",
        "\n",
        "\n",
        "Neurônio:\n",
        "<div align=\"center\">\n",
        "<img src=\"https://s4.static.brasilescola.uol.com.br/img/2017/11/neuronio.jpg\" width=200px>\n",
        "</div>\n",
        "\n",
        "\n",
        "O \"neurônio\" artificial para classificação é modelado através de pesos \"sinápticos\" e funções de ativação.\n",
        "\n",
        "Modelo de perceptron:\n",
        "<div align=\"center\">\n",
        "<img src=\"https://cdn-images-1.medium.com/freeze/max/1000/1*RzoXI8IYBScpMxdF3G47KQ.png?q=20\" width=400px align=\"center\">\n",
        "</div>\n",
        "\n",
        "\n",
        "A seguir, vamos fazer criar neurônios para simular comportamento de portas lógicas. Basicamente, cada entrada do perceptron receberá um peso (que nós vamos definir) e será multiplicado pelo sinal de entrada. Os resultados serão somados e a função de ativação degrau unitário decidirá se a saída é ativada ou não:\n",
        "\n",
        "<div align=\"center\">\n",
        "<img src=\"https://3.bp.blogspot.com/-QNq8EZVF4H0/WbMsop7QBYI/AAAAAAAAAFQ/GtDovVD2ItwrbPvv5lOflVUGZ3K_9T19wCLcBGAs/s1600/Janela%2Bgr%25C3%25A1fica%2Bn%25C3%25BAmero%2B1.png\" width=400px>\n",
        "</div>\n"
      ]
    },
    {
      "cell_type": "code",
      "metadata": {
        "id": "nHrNN1zyY5gL",
        "colab_type": "code",
        "cellView": "form",
        "colab": {}
      },
      "source": [
        "#@title Importação de biblioteca\n",
        "import pandas as pd\n",
        "import matplotlib.pyplot as plt\n",
        "import numpy as np\n",
        "%matplotlib inline"
      ],
      "execution_count": 0,
      "outputs": []
    },
    {
      "cell_type": "markdown",
      "metadata": {
        "id": "n81gDQg2iw7N",
        "colab_type": "text"
      },
      "source": [
        "###Perceptron AND"
      ]
    },
    {
      "cell_type": "markdown",
      "metadata": {
        "id": "Pqc9XnHVwZ8r",
        "colab_type": "text"
      },
      "source": [
        "Tabela verdade de uma porta lógica AND:\n",
        "\\begin{array}{C|C|C}\n",
        "Entrada 1 & Entrada 2 & Saida\\\\\n",
        "\\hline\n",
        "0 & 0 & 0 \\\\\n",
        "0 & 1 & 0 \\\\\n",
        "1 & 0 & 0 \\\\\n",
        "1 & 1 & 1 \n",
        "\\end{array}"
      ]
    },
    {
      "cell_type": "code",
      "metadata": {
        "id": "kYI-NAlelK5r",
        "colab_type": "code",
        "colab": {}
      },
      "source": [
        "# TODO: Altere os valores\n",
        "weight1 = 1\n",
        "weight2 = 1\n",
        "bias =  1"
      ],
      "execution_count": 0,
      "outputs": []
    },
    {
      "cell_type": "code",
      "metadata": {
        "id": "zCYo_tuM3sFQ",
        "colab_type": "code",
        "cellView": "form",
        "colab": {}
      },
      "source": [
        "#@title Imprimir resultados\n",
        "# Não mude nada a partir deste ponto\n",
        "# Valores de entradas e saídas\n",
        "test_inputs = [(0, 0), (0, 1), (1, 0), (1, 1)]\n",
        "correct_outputs = [False, False, False, True]\n",
        "outputs = []\n",
        "\n",
        "# Gera e checa saída \n",
        "for test_input, correct_output in zip(test_inputs, correct_outputs):\n",
        "    linear_combination = weight1 * test_input[0] + weight2 * test_input[1] + bias\n",
        "    output = int(linear_combination >= 0)\n",
        "    is_correct_string = 'Sim' if output == correct_output else 'Não'\n",
        "    outputs.append([test_input[0], test_input[1], linear_combination, output, is_correct_string])\n",
        "\n",
        "# Imprime resultado\n",
        "num_wrong = len([output[4] for output in outputs if output[4] == 'Não'])\n",
        "output_frame = pd.DataFrame(outputs, columns=['Entrada 1', '  Entrada 2', '  Combinação linear', '  Ativação da saída', '  Está corrreto?'])\n",
        "if not num_wrong:\n",
        "    print('Acertou todos os pontos!\\n')\n",
        "else:\n",
        "    print('Você errou {} pontos.  Continue tentando!\\n'.format(num_wrong))\n",
        "print(output_frame.to_string(index=False))\n",
        "\n",
        "# Plotar gráfico\n",
        "x1=-50\n",
        "x2=50\n",
        "y1=-(weight1*x1+bias)/weight2\n",
        "y2=-(weight1*x2+bias)/weight2\n",
        "plt.plot([0,0,1], [0,1,0], 'ro')\n",
        "plt.plot([1],[1],'bo')\n",
        "plt.plot([x1,x2],[y1,y2],'k')\n",
        "plt.grid(True)\n",
        "plt.axis([-1, 2, -1, 2]);"
      ],
      "execution_count": 0,
      "outputs": []
    },
    {
      "cell_type": "markdown",
      "metadata": {
        "id": "CNuMru9ui50M",
        "colab_type": "text"
      },
      "source": [
        "###Perceptron OR"
      ]
    },
    {
      "cell_type": "markdown",
      "metadata": {
        "id": "HDKrceJbx9dI",
        "colab_type": "text"
      },
      "source": [
        "Tabela verdade de uma porta lógica OR:\n",
        "\\begin{array}{C|C|C}\n",
        "Entrada 1 & Entrada 2 & Saida\\\\\n",
        "\\hline\n",
        "0 & 0 & 0 \\\\\n",
        "0 & 1 & 1 \\\\\n",
        "1 & 0 & 1 \\\\\n",
        "1 & 1 & 1 \n",
        "\\end{array}"
      ]
    },
    {
      "cell_type": "code",
      "metadata": {
        "id": "BaTBdYC6lQ9r",
        "colab_type": "code",
        "cellView": "both",
        "colab": {}
      },
      "source": [
        "# TODO: Altere os valores\n",
        "weight1 = 1\n",
        "weight2 = 1\n",
        "bias = 1"
      ],
      "execution_count": 0,
      "outputs": []
    },
    {
      "cell_type": "code",
      "metadata": {
        "id": "QHGtU4MmYyvU",
        "colab_type": "code",
        "cellView": "form",
        "colab": {}
      },
      "source": [
        "#@title Imprimir resultados\n",
        "# Não mude nada a partir deste ponto\n",
        "# Valores de entradas e saídas\n",
        "test_inputs = [(0, 0), (0, 1), (1, 0), (1, 1)]\n",
        "correct_outputs = [False, True, True, True]\n",
        "outputs = []\n",
        "\n",
        "# Gera e checa saída \n",
        "for test_input, correct_output in zip(test_inputs, correct_outputs):\n",
        "    linear_combination = weight1 * test_input[0] + weight2 * test_input[1] + bias\n",
        "    output = int(linear_combination >= 0)\n",
        "    is_correct_string = 'Sim' if output == correct_output else 'Não'\n",
        "    outputs.append([test_input[0], test_input[1], linear_combination, output, is_correct_string])\n",
        "\n",
        "# Imprime resultado\n",
        "num_wrong = len([output[4] for output in outputs if output[4] == 'Não'])\n",
        "output_frame = pd.DataFrame(outputs, columns=['Entrada 1', '  Entrada 2', '  Combinação linear', '  Ativação da saída', '  Está corrreto?'])\n",
        "if not num_wrong:\n",
        "    print('Acertou todos os pontos!\\n')\n",
        "else:\n",
        "    print('Você errou {} pontos.  Continue tentando!\\n'.format(num_wrong))\n",
        "print(output_frame.to_string(index=False))\n",
        "\n",
        "# Plotar gráfico\n",
        "x1=-50\n",
        "x2=50\n",
        "y1=-(weight1*x1+bias)/weight2\n",
        "y2=-(weight1*x2+bias)/weight2\n",
        "plt.plot([0], [0], 'ro')\n",
        "plt.plot([0,1,1],[1,0,1],'bo')\n",
        "plt.plot([x1,x2],[y1,y2],'k')\n",
        "plt.grid(True)\n",
        "plt.axis([-1, 2, -1, 2]);"
      ],
      "execution_count": 0,
      "outputs": []
    },
    {
      "cell_type": "markdown",
      "metadata": {
        "id": "2ZMCXVI-uHLK",
        "colab_type": "text"
      },
      "source": [
        "### Perceptron XOR"
      ]
    },
    {
      "cell_type": "markdown",
      "metadata": {
        "id": "iVRTivlR1ZV7",
        "colab_type": "text"
      },
      "source": [
        "Tabela verdade de uma porta lógica XOR:\n",
        "\\begin{array}{C|C|C}\n",
        "Entrada 1 & Entrada 2 & Saida\\\\\n",
        "\\hline\n",
        "0 & 0 & 0 \\\\\n",
        "0 & 1 & 1 \\\\\n",
        "1 & 0 & 1 \\\\\n",
        "1 & 1 & 0 \n",
        "\\end{array}"
      ]
    },
    {
      "cell_type": "code",
      "metadata": {
        "id": "dw54mVWKuN1Y",
        "colab_type": "code",
        "colab": {}
      },
      "source": [
        "# TODO: Altere os valores\n",
        "weight1 = 1\n",
        "weight2 = 1\n",
        "bias = 1"
      ],
      "execution_count": 0,
      "outputs": []
    },
    {
      "cell_type": "code",
      "metadata": {
        "id": "Z6qEaaXvmWlm",
        "colab_type": "code",
        "cellView": "form",
        "colab": {}
      },
      "source": [
        "#@title Imprimir resultados\n",
        "# Não mude nada a partir deste ponto\n",
        "# Valores de entradas e saídas\n",
        "test_inputs = [(0, 0), (0, 1), (1, 0), (1, 1)]\n",
        "correct_outputs = [False, True, True, False]\n",
        "outputs = []\n",
        "\n",
        "# Gera e checa saída \n",
        "for test_input, correct_output in zip(test_inputs, correct_outputs):\n",
        "    linear_combination = weight1 * test_input[0] + weight2 * test_input[1] + bias\n",
        "    output = int(linear_combination >= 0)\n",
        "    is_correct_string = 'Sim' if output == correct_output else 'Não'\n",
        "    outputs.append([test_input[0], test_input[1], linear_combination, output, is_correct_string])\n",
        "\n",
        "# Imprime resultado\n",
        "num_wrong = len([output[4] for output in outputs if output[4] == 'Não'])\n",
        "output_frame = pd.DataFrame(outputs, columns=['Entrada 1', '  Entrada 2', '  Combinação linear', '  Ativação da saída', '  Está corrreto?'])\n",
        "if not num_wrong:\n",
        "    print('Acertou todos os pontos!\\n')\n",
        "else:\n",
        "    print('Você errou {} pontos.  Continue tentando!\\n'.format(num_wrong))\n",
        "print(output_frame.to_string(index=False))\n",
        "\n",
        "# Plotar gráfico\n",
        "x1=-50\n",
        "x2=50\n",
        "y1=-(weight1*x1+bias)/weight2\n",
        "y2=-(weight1*x2+bias)/weight2\n",
        "plt.plot([0,1], [0,1], 'ro')\n",
        "plt.plot([0,1],[1,0],'bo')\n",
        "plt.plot([x1,x2],[y1,y2],'k')\n",
        "plt.grid(True)\n",
        "plt.axis([-1, 2, -1, 2]);"
      ],
      "execution_count": 0,
      "outputs": []
    },
    {
      "cell_type": "markdown",
      "metadata": {
        "id": "bGSjZTpp8Usd",
        "colab_type": "text"
      },
      "source": [
        "###Rede neural"
      ]
    },
    {
      "cell_type": "markdown",
      "metadata": {
        "id": "x223HfHACwn4",
        "colab_type": "text"
      },
      "source": [
        "O \"Deep Learning\" é baseado em redes neurais artificiais que existem de alguma forma desde o final da década de 1950. As redes são construídas a partir de partes individuais que se aproximam dos neurônios, normalmente chamadas de unidades ou simplesmente \"neurônios\". Cada unidade possui algum número de entradas ponderadas. Essas entradas ponderadas são somadas (uma combinação linear) e depois passadas por uma função de ativação para obter a saída da unidade.\n",
        "\n",
        "<div align=\"center\">\n",
        "<img src=\"https://cdn-images-1.medium.com/freeze/max/1000/1*RzoXI8IYBScpMxdF3G47KQ.png?q=20\" width=400px align=\"middle\">\n",
        "</div>\n",
        "\n",
        "Matematicamente, isso se parece com:\n",
        "\n",
        "$$\n",
        "\\begin{align}\n",
        "y &= f(w_1 x_1 + w_2 x_2 + b) \\\\\n",
        "y &= f\\left(\\sum_i w_i x_i +b \\right)\n",
        "\\end{align}\n",
        "$$\n",
        "\n",
        "Este é o produto escalar de dois vetores:\n",
        "\n",
        "$$\n",
        "h = \\begin{bmatrix}\n",
        "x_1 \\, x_2 \\cdots  x_n\n",
        "\\end{bmatrix}\n",
        "\\cdot \n",
        "\\begin{bmatrix}\n",
        "           w_1 \\\\\n",
        "           w_2 \\\\\n",
        "           \\vdots \\\\\n",
        "           w_n\n",
        "\\end{bmatrix}\n",
        "$$"
      ]
    },
    {
      "cell_type": "code",
      "metadata": {
        "id": "ndSxZK7BurM-",
        "colab_type": "code",
        "colab": {}
      },
      "source": [
        "# Funções auxiliares\n",
        "def plot_points(X, y):\n",
        "    admitted = X[np.argwhere(y==1)]\n",
        "    rejected = X[np.argwhere(y==0)]\n",
        "    plt.scatter([s[0][0] for s in rejected], [s[0][1] for s in rejected], s = 25, color = 'blue', edgecolor = 'k')\n",
        "    plt.scatter([s[0][0] for s in admitted], [s[0][1] for s in admitted], s = 25, color = 'red', edgecolor = 'k')\n",
        "\n",
        "def display(m, b, color='g--'):\n",
        "    plt.xlim(-0.05,1.05)\n",
        "    plt.ylim(-0.05,1.05)\n",
        "    x = np.arange(-10, 10, 0.1)\n",
        "    plt.plot(x, m*x+b, color)"
      ],
      "execution_count": 0,
      "outputs": []
    },
    {
      "cell_type": "code",
      "metadata": {
        "id": "GaMt6Wi-8dI3",
        "colab_type": "code",
        "colab": {}
      },
      "source": [
        "# Importando os dados\n",
        "data = pd.read_csv('data.csv', header=None)\n",
        "X = np.array(data[[0,1]])\n",
        "y = np.array(data[2])\n",
        "plot_points(X,y)\n",
        "plt.show()"
      ],
      "execution_count": 0,
      "outputs": []
    },
    {
      "cell_type": "markdown",
      "metadata": {
        "id": "rvuqqA3A851-",
        "colab_type": "text"
      },
      "source": [
        "### TODO: Implementando as funções básicas\n",
        "Implemente as seguintes fórmulas, conforme explicadas no texto.\n",
        "- Função de ativação sigmóide\n",
        "\n",
        "$$\\sigma(x) = \\frac{1}{1+e^{-x}}$$\n",
        "\n",
        "- Fórmula de saída (previsão)\n",
        "\n",
        "$$\\hat{y} = \\sigma(w_1 x_1 + w_2 x_2 + b)$$\n",
        "\n",
        "- Função de erro\n",
        "\n",
        "$$Erro(y, \\hat{y}) = - y \\log(\\hat{y}) - (1-y) \\log(1-\\hat{y})$$\n",
        "\n",
        "- A função que atualiza os pesos\n",
        "\n",
        "$$ w_i \\longrightarrow w_i + \\alpha (y - \\hat{y}) x_i$$\n",
        "\n",
        "$$ b \\longrightarrow b + \\alpha (y - \\hat{y})$$\n",
        "\n",
        "As funções serão utilizadas para treinar a rede neural a fim de segmentar os dados que foram previamente importados."
      ]
    },
    {
      "cell_type": "code",
      "metadata": {
        "id": "mSJbj9fs9QKl",
        "colab_type": "code",
        "colab": {}
      },
      "source": [
        "# TODO: Implemente as seguintes funções\n",
        "def sigmoid(x):\n",
        "    pass\n",
        "\n",
        "def output_formula(weights, features, bias):\n",
        "    pass\n",
        "\n",
        "def error_formula(y, output):\n",
        "    pass\n",
        "\n",
        "def update_weights(x, y, weights, bias, learnrate):\n",
        "    output = output_formula(x, weights, bias)\n",
        "    d_error = y - output\n",
        "    weights += learnrate * d_error * x\n",
        "    bias += learnrate * d_error\n",
        "    return weights, bias"
      ],
      "execution_count": 0,
      "outputs": []
    },
    {
      "cell_type": "markdown",
      "metadata": {
        "id": "KfWTK6No-Qxv",
        "colab_type": "text"
      },
      "source": [
        "### Função de treinamento\n",
        "Essa função nos ajudará a iterar o algoritmo a fim de procurar o menor erro. Ele também plotará os dados e algumas das linhas de limite obtidas à medida que executamos o algoritmo."
      ]
    },
    {
      "cell_type": "code",
      "metadata": {
        "id": "dXa56ksF-PqY",
        "colab_type": "code",
        "colab": {}
      },
      "source": [
        "np.random.seed(44)\n",
        "\n",
        "epochs = 100\n",
        "learnrate = 0.01\n",
        "\n",
        "def train(features, targets, epochs, learnrate, graph_lines=False):\n",
        "    \n",
        "    errors = []\n",
        "    n_records, n_features = features.shape\n",
        "    last_loss = None\n",
        "    weights = np.random.normal(scale=1 / n_features**.5, size=n_features)\n",
        "    bias = 0\n",
        "    for e in range(epochs):\n",
        "        del_w = np.zeros(weights.shape)\n",
        "        for x, y in zip(features, targets):\n",
        "            output = output_formula(x, weights, bias)\n",
        "            error = error_formula(y, output)\n",
        "            weights, bias = update_weights(x, y, weights, bias, learnrate)\n",
        "        \n",
        "        out = output_formula(features, weights, bias)\n",
        "        loss = np.mean(error_formula(targets, out))\n",
        "        errors.append(loss)\n",
        "        if e % (epochs / 10) == 0:\n",
        "            print(\"\\n========== Época\", e,\"==========\")\n",
        "            if last_loss and last_loss < loss:\n",
        "                print(\"Perda no treino: \", loss, \"  Aviso! O erro está aumentando\")\n",
        "            else:\n",
        "                print(\"Perdo no treino: \", loss)\n",
        "            last_loss = loss\n",
        "            predictions = out > 0.5\n",
        "            accuracy = np.mean(predictions == targets)\n",
        "            print(\"Precisão: \", accuracy)\n",
        "        if graph_lines and e % (epochs / 100) == 0:\n",
        "            display(-weights[0]/weights[1], -bias/weights[1])\n",
        "            \n",
        "\n",
        "    # Plotting the solution boundary\n",
        "    plt.title(\"Solução\")\n",
        "    display(-weights[0]/weights[1], -bias/weights[1], 'black')\n",
        "\n",
        "    # Plotting the data\n",
        "    plot_points(features, targets)\n",
        "    plt.show()\n",
        "\n",
        "    # Plotting the error\n",
        "    plt.title(\"Erro\")\n",
        "    plt.xlabel('Número de \\'épocas\\'')\n",
        "    plt.ylabel('Erro')\n",
        "    plt.plot(errors)\n",
        "    plt.show()"
      ],
      "execution_count": 0,
      "outputs": []
    },
    {
      "cell_type": "code",
      "metadata": {
        "id": "xaLd0iqOqpMB",
        "colab_type": "code",
        "colab": {}
      },
      "source": [
        "train(X, y, epochs, learnrate, True)"
      ],
      "execution_count": 0,
      "outputs": []
    },
    {
      "cell_type": "code",
      "metadata": {
        "id": "7Kyj3sM3YPmj",
        "colab_type": "code",
        "colab": {}
      },
      "source": [
        ""
      ],
      "execution_count": 0,
      "outputs": []
    }
  ]
}