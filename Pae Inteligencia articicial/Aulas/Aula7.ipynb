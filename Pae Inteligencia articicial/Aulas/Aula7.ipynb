{
  "nbformat": 4,
  "nbformat_minor": 0,
  "metadata": {
    "colab": {
      "name": "Aula7.ipynb",
      "provenance": [],
      "collapsed_sections": [],
      "toc_visible": true
    },
    "kernelspec": {
      "name": "python3",
      "display_name": "Python 3"
    },
    "accelerator": "GPU"
  },
  "cells": [
    {
      "cell_type": "markdown",
      "metadata": {
        "id": "OU5rutINOBfK",
        "colab_type": "text"
      },
      "source": [
        "#Introdução à inteligência artificial"
      ]
    },
    {
      "cell_type": "markdown",
      "metadata": {
        "id": "AhakXxzFOJP9",
        "colab_type": "text"
      },
      "source": [
        "## Aula 7 - Transferência de aprendizado"
      ]
    },
    {
      "cell_type": "markdown",
      "metadata": {
        "id": "8hRYUlAkRb_g",
        "colab_type": "text"
      },
      "source": [
        "Neste aula, você aprenderá como treinar uma rede neural convolucional para classificação de imagens usando o aprendizado por transferência. Você pode ler mais sobre transferência de aprendizado em [cs231n notes](https://cs231n.github.io/transfer-learning/)\n",
        "\n",
        "Citando estas notas,\n",
        "\n",
        ">Na prática, pouquíssimas pessoas treinam uma rede convolucional inteira do zero (com inicialização aleatória), porque é relativamente raro ter um conjunto de dados de tamanho suficiente. Em vez disso, é comum pré-treinar um ConvNet em um conjunto de dados muito grande (por exemplo, ImageNet, que contém 1,2 milhão de imagens com 1000 categorias) e, em seguida, usar o ConvNet como uma inicialização ou um extrator de recurso fixo para a tarefa de interesse.\n",
        "Esses dois principais cenários de aprendizado de transferência são os seguintes:\n",
        "\n",
        "Finalizando a convnet: Em vez de inicializar aleatoriamente, inicializamos a rede com uma rede pré-treinada, como a que é treinada no conjunto de dados imagenet 1000. O restante do treinamento parece como de costume.\n",
        "ConvNet como extrator de recurso fixo: Aqui, congelaremos os pesos para toda a rede, exceto a camada final totalmente conectada. Essa última camada totalmente conectada é substituída por uma nova com pesos aleatórios e somente essa camada é treinada."
      ]
    },
    {
      "cell_type": "code",
      "metadata": {
        "id": "beJmElnLOCWk",
        "colab_type": "code",
        "colab": {}
      },
      "source": [
        "from __future__ import print_function, division\n",
        "\n",
        "import torch\n",
        "import torch.nn as nn\n",
        "import torch.optim as optim\n",
        "from torch.optim import lr_scheduler\n",
        "import numpy as np\n",
        "import torchvision\n",
        "from torchvision import datasets, models, transforms\n",
        "import matplotlib.pyplot as plt\n",
        "import time\n",
        "import os\n",
        "import copy\n",
        "\n",
        "plt.ion() "
      ],
      "execution_count": null,
      "outputs": []
    },
    {
      "cell_type": "markdown",
      "metadata": {
        "id": "G386WSo7SJOp",
        "colab_type": "text"
      },
      "source": [
        "### Baixar os dados\n",
        "\n",
        "Usaremos os pacotes torchvision e torch.utils.data para carregar os dados.\n",
        "\n",
        "O problema que vamos resolver hoje é treinar um modelo para classificar formigas e abelhas. Temos cerca de 120 imagens de treinamento para formigas e abelhas. Existem 75 imagens de validação para cada classe. Geralmente, esse é um conjunto de dados muito pequeno para generalizar, se treinado do zero. Como estamos usando o aprendizado por transferência, devemos ser capazes de generalizar razoavelmente bem.\n",
        "\n",
        "Este conjunto de dados é um subconjunto muito pequeno de imagenet."
      ]
    },
    {
      "cell_type": "code",
      "metadata": {
        "id": "N1KYk8W5SEfe",
        "colab_type": "code",
        "colab": {}
      },
      "source": [
        "# Baixa e descompacta as imagens\n",
        "!wget https://download.pytorch.org/tutorial/hymenoptera_data.zip\n",
        "!unzip hymenoptera_data.zip"
      ],
      "execution_count": null,
      "outputs": []
    },
    {
      "cell_type": "markdown",
      "metadata": {
        "id": "xyVgeHpUTvuw",
        "colab_type": "text"
      },
      "source": [
        "### Definir as transformações\n",
        "\n",
        "Podemos definir transformações da imagens para \"criar\" novos dados e a rede poder aprender com elas. As transformações disponíveis são encontradas [aqui](https://pytorch.org/docs/stable/torchvision/transforms.html). "
      ]
    },
    {
      "cell_type": "code",
      "metadata": {
        "id": "atYRM78zSazJ",
        "colab_type": "code",
        "colab": {}
      },
      "source": [
        "# Aumento e normalização de dados para treinamento\n",
        "# Apenas normalização para validação\n",
        "data_transforms = {\n",
        "    'train': transforms.Compose([\n",
        "        transforms.RandomResizedCrop(224),\n",
        "        transforms.RandomHorizontalFlip(),\n",
        "        transforms.ToTensor(),\n",
        "        transforms.Normalize([0.485, 0.456, 0.406], [0.229, 0.224, 0.225])\n",
        "    ]),\n",
        "    'val': transforms.Compose([\n",
        "        transforms.Resize(256),\n",
        "        transforms.CenterCrop(224),\n",
        "        transforms.ToTensor(),\n",
        "        transforms.Normalize([0.485, 0.456, 0.406], [0.229, 0.224, 0.225])\n",
        "    ]),\n",
        "}\n",
        "\n",
        "data_dir = '/content/hymenoptera_data'\n",
        "image_datasets = {x: datasets.ImageFolder(os.path.join(data_dir, x),\n",
        "                                          data_transforms[x])\n",
        "                  for x in ['train', 'val']}\n",
        "dataloaders = {x: torch.utils.data.DataLoader(image_datasets[x], batch_size=4,\n",
        "                                             shuffle=True, num_workers=4)\n",
        "              for x in ['train', 'val']}\n",
        "dataset_sizes = {x: len(image_datasets[x]) for x in ['train', 'val']}\n",
        "class_names = image_datasets['train'].classes\n",
        "\n",
        "device = torch.device(\"cuda:0\" if torch.cuda.is_available() else \"cpu\")"
      ],
      "execution_count": null,
      "outputs": []
    },
    {
      "cell_type": "markdown",
      "metadata": {
        "id": "hQFQEFv6Ta3C",
        "colab_type": "text"
      },
      "source": [
        "### Visualizar algumas imagens\n",
        "\n",
        "Vamos visualizar algumas imagens de treinamento para entender os aumentos de dados."
      ]
    },
    {
      "cell_type": "code",
      "metadata": {
        "id": "FD1tkphcSxLj",
        "colab_type": "code",
        "colab": {}
      },
      "source": [
        "def imshow(inp, title=None):\n",
        "    inp = inp.numpy().transpose((1, 2, 0))\n",
        "    mean = np.array([0.485, 0.456, 0.406])\n",
        "    std = np.array([0.229, 0.224, 0.225])\n",
        "    inp = std * inp + mean\n",
        "    inp = np.clip(inp, 0, 1)\n",
        "    plt.imshow(inp)\n",
        "    if title is not None:\n",
        "        plt.title(title)\n",
        "    plt.pause(0.001)\n",
        "\n",
        "\n",
        "# Pega um lote de treinamento\n",
        "inputs, classes = next(iter(dataloaders['train']))\n",
        "\n",
        "# Faz um \"grid\" com as imagens\n",
        "out = torchvision.utils.make_grid(inputs)\n",
        "\n",
        "imshow(out, title=[class_names[x] for x in classes])"
      ],
      "execution_count": null,
      "outputs": []
    },
    {
      "cell_type": "markdown",
      "metadata": {
        "id": "NaUqqFFoUa92",
        "colab_type": "text"
      },
      "source": [
        "### Treinando o modelo\n",
        "\n",
        "Agora, vamos escrever uma função geral para treinar um modelo. Aqui, ilustraremos:\n",
        "\n",
        "* Agendando a taxa de aprendizado\n",
        "* Salvando o melhor modelo\n",
        "\n",
        "A seguir, o 'scheduler' de parâmetros é um objeto do 'scheduler' LR de torch.optim.lr_scheduler."
      ]
    },
    {
      "cell_type": "code",
      "metadata": {
        "id": "ZLcyrRBRTi_B",
        "colab_type": "code",
        "colab": {}
      },
      "source": [
        "def train_model(model, criterion, optimizer, scheduler, num_epochs=25):\n",
        "    since = time.time()\n",
        "\n",
        "    best_model_wts = copy.deepcopy(model.state_dict())\n",
        "    best_acc = 0.0\n",
        "\n",
        "    for epoch in range(num_epochs):\n",
        "        print('Época {}/{}'.format(epoch, num_epochs - 1))\n",
        "        print('-' * 10)\n",
        "\n",
        "        # Cada época tem uma fase de treino e validação\n",
        "        for phase in ['train', 'val']:\n",
        "            if phase == 'train':\n",
        "                model.train()  # Modelo em treinamento\n",
        "            else:\n",
        "                model.eval()   # Modelo em avaliação\n",
        "\n",
        "            running_loss = 0.0\n",
        "            running_corrects = 0\n",
        "\n",
        "            for inputs, labels in dataloaders[phase]:\n",
        "                inputs = inputs.to(device)\n",
        "                labels = labels.to(device)\n",
        "\n",
        "                # Zera o gradiente do otimizador\n",
        "                optimizer.zero_grad()\n",
        "\n",
        "                # Analisa somente as perdas se for no treinamento\n",
        "                with torch.set_grad_enabled(phase == 'train'):\n",
        "                    outputs = model(inputs)\n",
        "                    _, preds = torch.max(outputs, 1)\n",
        "                    loss = criterion(outputs, labels)\n",
        "\n",
        "                    # 'loss.backward()' + 'optimizer.step()' somente no treinamento\n",
        "                    if phase == 'train':\n",
        "                        loss.backward()\n",
        "                        optimizer.step()\n",
        "\n",
        "                # Estatisticas\n",
        "                running_loss += loss.item() * inputs.size(0)\n",
        "                running_corrects += torch.sum(preds == labels.data)\n",
        "            if phase == 'train':\n",
        "                scheduler.step()\n",
        "\n",
        "            epoch_loss = running_loss / dataset_sizes[phase]\n",
        "            epoch_acc = running_corrects.double() / dataset_sizes[phase]\n",
        "\n",
        "            print('{} Perda: {:.4f} Precisão: {:.4f}'.format(\n",
        "                phase, epoch_loss, epoch_acc))\n",
        "\n",
        "            # Copia o modelo\n",
        "            if phase == 'val' and epoch_acc > best_acc:\n",
        "                best_acc = epoch_acc\n",
        "                best_model_wts = copy.deepcopy(model.state_dict())\n",
        "\n",
        "        print()\n",
        "\n",
        "    time_elapsed = time.time() - since\n",
        "    print('Treinamento completo em {:.0f}m {:.0f}s'.format(\n",
        "        time_elapsed // 60, time_elapsed % 60))\n",
        "    print('Melhor precisão: {:4f}'.format(best_acc))\n",
        "\n",
        "    # Carrega os pesos do melhor modelo\n",
        "    model.load_state_dict(best_model_wts)\n",
        "    return model"
      ],
      "execution_count": null,
      "outputs": []
    },
    {
      "cell_type": "markdown",
      "metadata": {
        "id": "M2yI8E7jVsXt",
        "colab_type": "text"
      },
      "source": [
        "###Visualizando as previsões do modelo\n",
        "\n",
        "Função genérica para exibir previsões para algumas imagens"
      ]
    },
    {
      "cell_type": "code",
      "metadata": {
        "id": "cnkPFZsWVn3n",
        "colab_type": "code",
        "colab": {}
      },
      "source": [
        "def visualize_model(model, num_images=6):\n",
        "    was_training = model.training\n",
        "    model.eval()\n",
        "    images_so_far = 0\n",
        "    fig = plt.figure()\n",
        "\n",
        "    with torch.no_grad():\n",
        "        for i, (inputs, labels) in enumerate(dataloaders['val']):\n",
        "            inputs = inputs.to(device)\n",
        "            labels = labels.to(device)\n",
        "\n",
        "            outputs = model(inputs)\n",
        "            _, preds = torch.max(outputs, 1)\n",
        "\n",
        "            for j in range(inputs.size()[0]):\n",
        "                images_so_far += 1\n",
        "                ax = plt.subplot(num_images//2, 2, images_so_far)\n",
        "                ax.axis('off')\n",
        "                ax.set_title('predicted: {}'.format(class_names[preds[j]]))\n",
        "                imshow(inputs.cpu().data[j])\n",
        "\n",
        "                if images_so_far == num_images:\n",
        "                    model.train(mode=was_training)\n",
        "                    return\n",
        "        model.train(mode=was_training)"
      ],
      "execution_count": null,
      "outputs": []
    },
    {
      "cell_type": "markdown",
      "metadata": {
        "id": "VV5Soj0RV-2c",
        "colab_type": "text"
      },
      "source": [
        "###Ajustando a ConvNet\n",
        "\n",
        "Carregue um modelo pré-treinado e redefina a camada final totalmente conectada. Os modelos pré-treinados podem ser encontrados [aqui](https://pytorch.org/docs/stable/torchvision/models.html)"
      ]
    },
    {
      "cell_type": "code",
      "metadata": {
        "id": "IvxZOv8cV6ZQ",
        "colab_type": "code",
        "colab": {}
      },
      "source": [
        "model_ft = models.resnet18(pretrained=True)\n",
        "num_ftrs = model_ft.fc.in_features\n",
        "# Aqui o tamanho de cada amostra de saída é definido como 2.\n",
        "# Alternativamente, pode ser generalizado para nn.Linear(num_ftrs, len (class_names)).\n",
        "model_ft.fc = nn.Linear(num_ftrs, 2)\n",
        "\n",
        "model_ft = model_ft.to(device)\n",
        "\n",
        "criterion = nn.CrossEntropyLoss()\n",
        "\n",
        "# Observe que todos os parâmetros estão sendo otimizados\n",
        "optimizer_ft = optim.SGD(model_ft.parameters(), lr=0.001, momentum=0.9)\n",
        "\n",
        "# Decai a taxa de aprendizado por um fator de 0,1 a cada 7 épocas\n",
        "exp_lr_scheduler = lr_scheduler.StepLR(optimizer_ft, step_size=7, gamma=0.1)"
      ],
      "execution_count": null,
      "outputs": []
    },
    {
      "cell_type": "markdown",
      "metadata": {
        "id": "HCXmQQEyWtYg",
        "colab_type": "text"
      },
      "source": [
        "###Treinar e avaliar\n",
        "\n",
        "Na CPU deve demorar entre 15 e 25 minutos. Na GPU, leva menos de um minuto."
      ]
    },
    {
      "cell_type": "code",
      "metadata": {
        "id": "OLOjTl_YWoJb",
        "colab_type": "code",
        "colab": {}
      },
      "source": [
        "model_ft = train_model(model_ft, criterion, optimizer_ft, exp_lr_scheduler,\n",
        "                       num_epochs=2)"
      ],
      "execution_count": null,
      "outputs": []
    },
    {
      "cell_type": "code",
      "metadata": {
        "id": "plP6V5whW0_X",
        "colab_type": "code",
        "colab": {}
      },
      "source": [
        "visualize_model(model_ft)"
      ],
      "execution_count": null,
      "outputs": []
    },
    {
      "cell_type": "markdown",
      "metadata": {
        "id": "-wKcjvB1YZLQ",
        "colab_type": "text"
      },
      "source": [
        "### ConvNet como extrator de recurso fixo\n",
        "\n",
        "Aqui, precisamos congelar toda a rede, exceto a camada final. Precisamos definir 'requires_grad == False' para congelar os parâmetros para que os gradientes não sejam computados em 'backward()'.\n",
        "\n",
        "Você pode ler mais sobre isso na documentação [aqui](https://pytorch.org/docs/master/notes/autograd.html)."
      ]
    },
    {
      "cell_type": "code",
      "metadata": {
        "id": "MHKLWLFJW-uf",
        "colab_type": "code",
        "colab": {}
      },
      "source": [
        "model_conv = torchvision.models.resnet18(pretrained=True)\n",
        "for param in model_conv.parameters():\n",
        "    param.requires_grad = False\n",
        "\n",
        "# Parâmetros de módulos recém-construídos têm requires_grad = True por padrão\n",
        "num_ftrs = model_conv.fc.in_features\n",
        "model_conv.fc = nn.Linear(num_ftrs, 2)\n",
        "\n",
        "model_conv = model_conv.to(device)\n",
        "\n",
        "criterion = nn.CrossEntropyLoss()\n",
        "\n",
        "# Observe que apenas os parâmetros da camada final estão sendo otimizados ao contrario de antes.\n",
        "optimizer_conv = optim.SGD(model_conv.fc.parameters(), lr=0.001, momentum=0.9)\n",
        "\n",
        "# Decai a taxa de aprendizado por um fator de 0,1 a cada 7 épocas\n",
        "exp_lr_scheduler = lr_scheduler.StepLR(optimizer_conv, step_size=7, gamma=0.1)"
      ],
      "execution_count": null,
      "outputs": []
    },
    {
      "cell_type": "markdown",
      "metadata": {
        "id": "HM5OAsshZHwN",
        "colab_type": "text"
      },
      "source": [
        "###Treinar e avaliar\n",
        "\n",
        "Na CPU, isso levará cerca de metade do tempo em comparação com o cenário anterior. Isso é esperado, pois os gradientes não precisam ser computados para a maior parte da rede. No entanto, o passe pela rede precisa ser calculado."
      ]
    },
    {
      "cell_type": "code",
      "metadata": {
        "id": "F0AePXheZBQ8",
        "colab_type": "code",
        "colab": {}
      },
      "source": [
        "model_conv = train_model(model_conv, criterion, optimizer_conv,\n",
        "                         exp_lr_scheduler, num_epochs=2)"
      ],
      "execution_count": null,
      "outputs": []
    },
    {
      "cell_type": "code",
      "metadata": {
        "id": "-nP50WBPZOfQ",
        "colab_type": "code",
        "colab": {}
      },
      "source": [
        "visualize_model(model_conv)\n",
        "\n",
        "plt.ioff()\n",
        "plt.show()"
      ],
      "execution_count": null,
      "outputs": []
    },
    {
      "cell_type": "markdown",
      "metadata": {
        "id": "zItZlvuAZukF",
        "colab_type": "text"
      },
      "source": [
        "### Modificando o classificador da rede\n",
        "\n",
        "Também podemos alterar todo o classificador de um modelo e criar o nosso, porém ele será treinado do \"zero\". Para modificar o classificador de um modelo podemos usar o seguinte código:"
      ]
    },
    {
      "cell_type": "code",
      "metadata": {
        "id": "Yi6p9N7IZXHW",
        "colab_type": "code",
        "colab": {}
      },
      "source": [
        "model=models.vgg19_bn(pretrained=True)\n",
        "\n",
        "for param in model.parameters():\n",
        "    param.requires_grad = False\n",
        "    \n",
        "model.classifier = nn.Sequential(nn.Linear(25088, 2048),\n",
        "                                 nn.ReLU(inplace=True),\n",
        "                                 nn.Dropout(0.5),\n",
        "                                 nn.Linear(2048, 2048),\n",
        "                                 nn.ReLU(inplace=True),\n",
        "                                 nn.Dropout(0.5),\n",
        "                                 nn.Linear(2048, 10))\n",
        "print(model)"
      ],
      "execution_count": null,
      "outputs": []
    },
    {
      "cell_type": "markdown",
      "metadata": {
        "id": "bgmAYGKC57Xf",
        "colab_type": "text"
      },
      "source": [
        "### Salvando parâmetros\n",
        "\n",
        "Caso você ja tenha treinado a rede neural com algumas classes especificas, será muito útil salvar as classes junto com o modelo treinado, assim pode usar o seguinte código:"
      ]
    },
    {
      "cell_type": "code",
      "metadata": {
        "id": "eAcaGVU-52Ia",
        "colab_type": "code",
        "colab": {}
      },
      "source": [
        "model.class_to_idx = image_datasets['train'].class_to_idx\n",
        "torch.save(model.state_dict(), \"model.pt\")"
      ],
      "execution_count": null,
      "outputs": []
    }
  ]
}